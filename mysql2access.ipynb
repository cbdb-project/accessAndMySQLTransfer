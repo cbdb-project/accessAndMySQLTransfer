{
 "cells": [
  {
   "cell_type": "code",
   "execution_count": 16,
   "metadata": {},
   "outputs": [],
   "source": [
    "import pymysql\n",
    "from tqdm import tqdm\n",
    "import pyodbc\n",
    "\n",
    "DB_CONNECTION = 'mysql'\n",
    "DB_HOST = 'localhost'\n",
    "DB_PORT = 3306\n",
    "DB_DATABASE = '***'\n",
    "DB_USERNAME = '***'\n",
    "DB_PASSWORD = '***'\n",
    "\n",
    "field_type = {\n",
    " 1: 'INTEGER',\n",
    " 2: 'INTEGER',\n",
    " 3: 'INTEGER',\n",
    " 5: 'DOUBLE',\n",
    " 7: 'TIMESTAMP',\n",
    " 12: 'TIMESTAMP',\n",
    " 16: 'BIT',\n",
    " 252: 'LONGTEXT',\n",
    " 253: 'VARCHAR(255)',\n",
    " }\n",
    "\n",
    "conn_str = (\n",
    "    r'DRIVER={Microsoft Access Driver (*.mdb, *.accdb)};'\n",
    "    r'DBQ=C:\\\\Users\\\\CBDB\\Desktop\\\\mysql2access\\\\cbdb.mdb;'\n",
    "    )\n",
    "cnxn = pyodbc.connect(conn_str)\n",
    "crsr = cnxn.cursor()"
   ]
  },
  {
   "cell_type": "code",
   "execution_count": 17,
   "metadata": {},
   "outputs": [],
   "source": [
    "def get_table_name():\n",
    "    db = pymysql.connect(host=DB_HOST, user=DB_USERNAME, password=DB_PASSWORD, database=DB_DATABASE,charset=\"utf8mb4\",cursorclass=pymysql.cursors.DictCursor)\n",
    "    cursor = db.cursor()\n",
    "    cursor.execute(\"show tables\")\n",
    "    data = cursor.fetchall()\n",
    "#     print(len(data))\n",
    "#     print(data)\n",
    "    db.close()\n",
    "    return data"
   ]
  },
  {
   "cell_type": "code",
   "execution_count": 18,
   "metadata": {},
   "outputs": [],
   "source": [
    "def get_columns(table_name):\n",
    "    res = \"\"\n",
    "    db = pymysql.connect(host=DB_HOST, user=DB_USERNAME, password=DB_PASSWORD, database=DB_DATABASE,charset=\"utf8mb4\",cursorclass=pymysql.cursors.DictCursor)\n",
    "    cursor = db.cursor()\n",
    "    sqlSentence = \"select * from `%s` limit 1\"%table_name\n",
    "    cursor.execute(sqlSentence)\n",
    "    dataSchema = cursor.description\n",
    "    for row in dataSchema:\n",
    "        column_name = row[0]\n",
    "        type_name = field_type[row[1]]\n",
    "        res += \"`%s` %s,\" % (column_name, type_name)\n",
    "    res = res[:-1]\n",
    "    sql = \"CREATE TABLE `%s` ( %s )\" % (table_name, res)\n",
    "    db.close()\n",
    "    return sql\n",
    "\n",
    "def creat_table(table_name, sql, table_list):\n",
    "    if table_name in table_list:\n",
    "        print(\"DROP TABLE `%s`\" % (table_name))\n",
    "        crsr.execute(\"DROP TABLE `%s`\" % (table_name))\n",
    "        cnxn.commit()\n",
    "        print('drop %s successed' % (table_name))\n",
    "    crsr.execute(sql)\n",
    "    cnxn.commit()\n",
    "    print('create %s successed' % (table_name))\n",
    "\n",
    "def get_values(table_name):\n",
    "    db = pymysql.connect(host=DB_HOST, user=DB_USERNAME, password=DB_PASSWORD, database=DB_DATABASE,charset=\"utf8mb4\",cursorclass=pymysql.cursors.DictCursor)\n",
    "    cursor = db.cursor()\n",
    "    cursor.execute('SELECT * FROM `%s`' % (table_name))\n",
    "    data = cursor.fetchall()\n",
    "    db.close()\n",
    "    return data\n",
    "\n",
    "def insert_values(table_name, rows):\n",
    "    count = 0\n",
    "    isNum = False\n",
    "    for i in tqdm(range(len(rows))):\n",
    "        row = []\n",
    "        try:\n",
    "            for _,k in rows[i].items():\n",
    "                row.append(k)\n",
    "            for j in range(len(row)):\n",
    "                if row[j] == b'\\x00':\n",
    "                    row[j] = 0\n",
    "                elif row[j] == b'\\x01':\n",
    "                    row[j] = 1\n",
    "            query = \"INSERT INTO `\"+table_name+\"` values (\"+','.join([\"?\"]*len(row))+\");\"\n",
    "            crsr.execute(query,tuple(row))\n",
    "            count += 1\n",
    "        except:\n",
    "            print(\"stop at:\")\n",
    "            print(i)\n",
    "            print(rows[i])\n",
    "            print(row)\n",
    "            print(\"INSERT INTO `\"+table_name+\"` values (\"+','.join([\"?\"]*len(row))+\");\")\n",
    "            raise\n",
    "    cnxn.commit()\n"
   ]
  },
  {
   "cell_type": "code",
   "execution_count": 19,
   "metadata": {},
   "outputs": [],
   "source": [
    "def main():\n",
    "    table_list = []\n",
    "    for table_info in crsr.tables(tableType='TABLE'):\n",
    "        table_list.append(table_info.table_name)\n",
    "    print(table_list)   \n",
    "    for table_name in get_table_name():\n",
    "        for _,table_name_in_dic in table_name.items():\n",
    "            # if table_name_in_dic != \"SOCIAL_INSTITUTION_ADDR\": continue\n",
    "            table_name = table_name_in_dic.upper()\n",
    "            try:\n",
    "                creat_table_sql = get_columns(table_name)\n",
    "            except:\n",
    "                print(f\"Skipped table: {table_name_in_dic}\")\n",
    "                continue\n",
    "            creat_table(table_name, creat_table_sql, table_list)\n",
    "            rows = get_values(table_name)\n",
    "            insert_values(table_name, rows)\n",
    "    cnxn.close()"
   ]
  },
  {
   "cell_type": "code",
   "execution_count": 20,
   "metadata": {
    "scrolled": false
   },
   "outputs": [
    {
     "name": "stdout",
     "output_type": "stream",
     "text": [
      "[]\n",
      "create SOCIAL_INSTITUTION_ADDR successed\n"
     ]
    },
    {
     "name": "stderr",
     "output_type": "stream",
     "text": [
      "100%|██████████| 3783/3783 [00:04<00:00, 865.55it/s]\n"
     ]
    }
   ],
   "source": [
    "main()"
   ]
  },
  {
   "cell_type": "code",
   "execution_count": null,
   "metadata": {},
   "outputs": [],
   "source": []
  }
 ],
 "metadata": {
  "kernelspec": {
   "display_name": "Python 3 (ipykernel)",
   "language": "python",
   "name": "python3"
  },
  "language_info": {
   "codemirror_mode": {
    "name": "ipython",
    "version": 3
   },
   "file_extension": ".py",
   "mimetype": "text/x-python",
   "name": "python",
   "nbconvert_exporter": "python",
   "pygments_lexer": "ipython3",
   "version": "3.8.12"
  }
 },
 "nbformat": 4,
 "nbformat_minor": 2
}
