{
 "cells": [
  {
   "cell_type": "code",
   "execution_count": 5,
   "metadata": {},
   "outputs": [],
   "source": [
    "import xlrd\n",
    "\n",
    "def read_primary_key(path='TablePrimaryKeys.xlsx'):\n",
    "    data = xlrd.open_workbook(path)\n",
    "    table = data.sheets()[0]\n",
    "    nrows = table.nrows\n",
    "    ncols = table.ncols\n",
    "    res = {}\n",
    "    table_name = ''\n",
    "    for i in range(nrows):\n",
    "        if i == 0: continue\n",
    "        row = table.row_values(i)\n",
    "        if table_name != row[3].upper():\n",
    "            table_name = row[3].upper()\n",
    "            res[table_name] = []\n",
    "        res[table_name].append({\n",
    "            'primary_key': row[4],\n",
    "            'foreign_key': row[8].upper()+'<gap>'+row[9]\n",
    "        })\n",
    "    return res"
   ]
  },
  {
   "cell_type": "code",
   "execution_count": 6,
   "metadata": {
    "scrolled": false
   },
   "outputs": [
    {
     "name": "stdout",
     "output_type": "stream",
     "text": [
      "alter table `ADDR_BELONGS_DATA` add primary key (`c_addr_id`,`c_belongs_to`);\n",
      "alter table `TEXT_ROLE_CODES` add primary key (`c_role_id`);\n",
      "alter table `SOCIAL_INSTITUTION_NAME_CODES` add primary key (`c_inst_name_code`);\n",
      "alter table `NIAN_HAO` add primary key (`c_nianhao_id`);\n",
      "alter table `TEXT_DATA` add primary key (`c_personid`,`c_role_id`,`c_textid`);\n",
      "alter table `STATUS_TYPES` add primary key (`c_status_type_code`);\n",
      "alter table `BIOG_MAIN` add primary key (`c_personid`);\n",
      "alter table `POSTED_TO_OFFICE_DATA` add primary key (`c_office_id`,`c_posting_id`);\n",
      "alter table `GANZHI_CODES` add primary key (`c_ganzhi_code`);\n",
      "alter table `BIOG_INST_CODES` add primary key (`c_bi_role_code`);\n",
      "alter table `ASSOC_TYPES` add primary key (`c_assoc_type_id`);\n",
      "alter table `POSSESSION_ACT_CODES` add primary key (`c_possession_act_code`);\n",
      "alter table `POSSESSION_ADDR` add primary key (`c_addr_id`,`c_personid`,`c_possession_record_id`);\n",
      "alter table `ADDR_CODES` add primary key (`c_addr_id`);\n",
      "alter table `ALTNAME_DATA` add primary key (`c_alt_name_chn`,`c_alt_name_type_code`,`c_personid`);\n",
      "alter table `TEXT_TYPE` add primary key (`c_text_type_code`);\n",
      "alter table `POSTED_TO_ADDR_DATA` add primary key (`c_addr_id`,`c_office_id`,`c_posting_id`);\n",
      "alter table `OFFICE_CODE_TYPE_REL` add primary key (`c_office_id`,`c_office_tree_id`);\n",
      "alter table `STATUS_DATA` add primary key (`c_personid`,`c_sequence`,`c_status_code`);\n",
      "alter table `KIN_MOURNING` add primary key (`c_kinrel`);\n",
      "alter table `ADDR_XY` add primary key (`c_addr_id`);\n",
      "alter table `ENTRY_CODE_TYPE_REL` add primary key (`c_entry_code`,`c_entry_type`);\n",
      "alter table `SOCIAL_INSTITUTION_CODES` add primary key (`c_inst_code`,`c_inst_name_code`);\n",
      "alter table `SOCIAL_INSTITUTION_ADDR_TYPES` add primary key (`c_inst_addr_type_code`);\n",
      "alter table `DATABASE_LINK_CODES` add primary key (`c_db_id`);\n",
      "alter table `SCHOLARLYTOPIC_CODES` add primary key (`c_topic_code`);\n",
      "alter table `EXTANT_CODES` add primary key (`c_extant_code`);\n",
      "alter table `BIOG_SOURCE_DATA` add primary key (`c_pages`,`c_personid`,`c_textid`);\n",
      "alter table `ENTRY_DATA` add primary key (`c_assoc_code`,`c_assoc_id`,`c_entry_code`,`c_inst_code`,`c_inst_name_code`,`c_kin_code`,`c_kin_id`,`c_personid`,`c_sequence`,`c_year`);\n",
      "alter table `OFFICE_TYPE_TREE` add primary key (`c_office_type_node_id`);\n",
      "alter table `STATUS_CODE_TYPE_REL` add primary key (`c_status_code`,`c_status_type_code`);\n",
      "alter table `TEXT_CODES` add primary key (`c_textid`);\n",
      "alter table `YEAR_RANGE_CODES` add primary key (`c_range_code`);\n",
      "alter table `KIN_MOURNING_STEPS` add primary key (`c_kinrel`);\n",
      "alter table `POSSESSION_DATA` add primary key (`c_possession_record_id`);\n",
      "alter table `DATABASE_LINK_DATA` add primary key (`c_db_id`,`c_db_sys_id`,`c_person_id`);\n",
      "alter table `ASSOC_CODE_TYPE_REL` add primary key (`c_assoc_code`,`c_assoc_type_id`);\n",
      "alter table `OCCASION_CODES` add primary key (`c_occasion_code`);\n",
      "alter table `SOCIAL_INSTITUTION_ADDR` add primary key (`c_inst_addr_id`,`c_inst_addr_type_code`,`c_inst_code`,`c_inst_name_code`,`inst_xcoord`,`inst_ycoord`);\n",
      "alter table `EVENT_CODES` add primary key (`c_event_code`);\n",
      "alter table `OFFICE_CATEGORIES` add primary key (`c_office_category_id`);\n",
      "alter table `BIOG_INST_DATA` add primary key (`c_bi_role_code`,`c_inst_code`,`c_inst_name_code`,`c_personid`);\n",
      "alter table `HOUSEHOLD_STATUS_CODES` add primary key (`c_household_status_code`);\n",
      "alter table `ALTNAME_CODES` add primary key (`c_name_type_code`);\n",
      "alter table `LITERARYGENRE_CODES` add primary key (`c_lit_genre_code`);\n",
      "alter table `EVENTS_ADDR` add primary key (`c_addr_id`,`c_event_record_id`,`c_personid`);\n",
      "alter table `POSTING_DATA` add primary key (`c_posting_id`);\n",
      "alter table `KINSHIP_CODES` add primary key (`c_kincode`);\n",
      "alter table `ENTRY_TYPES` add primary key (`c_entry_type`);\n",
      "alter table `SOCIAL_INSTITUTION_TYPES` add primary key (`c_inst_type_code`);\n",
      "alter table `MEASURE_CODES` add primary key (`c_measure_code`);\n",
      "alter table `OFFICE_CODES` add primary key (`c_office_id`);\n",
      "alter table `STATUS_CODES` add primary key (`c_status_code`);\n",
      "alter table `PARENTAL_STATUS_CODES` add primary key (`c_parental_status_code`);\n"
     ]
    }
   ],
   "source": [
    "for i in read_primary_key():\n",
    "#     print(i)\n",
    "    pr = ','.join(['`'+j['primary_key']+'`' for j in read_primary_key()[i]])\n",
    "    print('alter table `%s` add primary key (%s);'%(i.upper(), pr))\n",
    "#     break"
   ]
  },
  {
   "cell_type": "code",
   "execution_count": 3,
   "metadata": {},
   "outputs": [
    {
     "data": {
      "text/plain": [
       "False"
      ]
     },
     "execution_count": 3,
     "metadata": {},
     "output_type": "execute_result"
    }
   ],
   "source": [
    "'TEXT_BIBLCAT_CODE_TYPE_REL' in read_primary_key().keys()"
   ]
  },
  {
   "cell_type": "code",
   "execution_count": 4,
   "metadata": {},
   "outputs": [
    {
     "name": "stdout",
     "output_type": "stream",
     "text": [
      "ALTER TABLE `ADDR_BELONGS_DATA` ADD FOREIGN KEY (`c_addr_id`) REFERENCES `ADDR_CODES`(`c_addr_id`) ON UPDATE CASCADE ON DELETE CASCADE;\n",
      "ALTER TABLE `ADDR_BELONGS_DATA` ADD FOREIGN KEY (`c_belongs_to`) REFERENCES `ADDR_CODES`(`c_addr_id`) ON UPDATE CASCADE ON DELETE CASCADE;\n",
      "ALTER TABLE `TEXT_DATA` ADD FOREIGN KEY (`c_personid`) REFERENCES `BIOG_MAIN`(`c_personid`) ON UPDATE CASCADE ON DELETE CASCADE;\n",
      "ALTER TABLE `TEXT_DATA` ADD FOREIGN KEY (`c_role_id`) REFERENCES `TEXT_ROLE_CODES`(`c_role_id`) ON UPDATE CASCADE ON DELETE CASCADE;\n",
      "ALTER TABLE `TEXT_DATA` ADD FOREIGN KEY (`c_textid`) REFERENCES `TEXT_CODES`(`c_textid`) ON UPDATE CASCADE ON DELETE CASCADE;\n",
      "ALTER TABLE `POSTED_TO_OFFICE_DATA` ADD FOREIGN KEY (`c_office_id`) REFERENCES `OFFICE_CODES`(`c_office_id`) ON UPDATE CASCADE ON DELETE CASCADE;\n",
      "ALTER TABLE `POSTED_TO_OFFICE_DATA` ADD FOREIGN KEY (`c_posting_id`) REFERENCES `POSTING_DATA`(`c_posting_id`) ON UPDATE CASCADE ON DELETE CASCADE;\n",
      "ALTER TABLE `POSSESSION_ADDR` ADD FOREIGN KEY (`c_addr_id`) REFERENCES `ADDR_CODES`(`c_addr_id`) ON UPDATE CASCADE ON DELETE CASCADE;\n",
      "ALTER TABLE `POSSESSION_ADDR` ADD FOREIGN KEY (`c_personid`) REFERENCES `BIOG_MAIN`(`c_personid`) ON UPDATE CASCADE ON DELETE CASCADE;\n",
      "ALTER TABLE `POSSESSION_ADDR` ADD FOREIGN KEY (`c_possession_record_id`) REFERENCES `POSSESSION_DATA`(`c_possession_record_id`) ON UPDATE CASCADE ON DELETE CASCADE;\n",
      "ALTER TABLE `ALTNAME_DATA` ADD FOREIGN KEY (`c_alt_name_type_code`) REFERENCES `ALTNAME_CODES`(`c_name_type_code`) ON UPDATE CASCADE ON DELETE CASCADE;\n",
      "ALTER TABLE `ALTNAME_DATA` ADD FOREIGN KEY (`c_personid`) REFERENCES `BIOG_MAIN`(`c_personid`) ON UPDATE CASCADE ON DELETE CASCADE;\n",
      "ALTER TABLE `POSTED_TO_ADDR_DATA` ADD FOREIGN KEY (`c_addr_id`) REFERENCES `ADDR_CODES`(`c_addr_id`) ON UPDATE CASCADE ON DELETE CASCADE;\n",
      "ALTER TABLE `POSTED_TO_ADDR_DATA` ADD FOREIGN KEY (`c_office_id`) REFERENCES `OFFICE_CODES`(`c_office_id`) ON UPDATE CASCADE ON DELETE CASCADE;\n",
      "ALTER TABLE `POSTED_TO_ADDR_DATA` ADD FOREIGN KEY (`c_posting_id`) REFERENCES `POSTING_DATA`(`c_posting_id`) ON UPDATE CASCADE ON DELETE CASCADE;\n",
      "ALTER TABLE `OFFICE_CODE_TYPE_REL` ADD FOREIGN KEY (`c_office_id`) REFERENCES `OFFICE_CODES`(`c_office_id`) ON UPDATE CASCADE ON DELETE CASCADE;\n",
      "ALTER TABLE `OFFICE_CODE_TYPE_REL` ADD FOREIGN KEY (`c_office_tree_id`) REFERENCES `OFFICE_TYPE_TREE`(`c_office_type_node_id`) ON UPDATE CASCADE ON DELETE CASCADE;\n",
      "ALTER TABLE `STATUS_DATA` ADD FOREIGN KEY (`c_personid`) REFERENCES `BIOG_MAIN`(`c_personid`) ON UPDATE CASCADE ON DELETE CASCADE;\n",
      "ALTER TABLE `STATUS_DATA` ADD FOREIGN KEY (`c_status_code`) REFERENCES `STATUS_CODES`(`c_status_code`) ON UPDATE CASCADE ON DELETE CASCADE;\n",
      "ALTER TABLE `ADDR_XY` ADD FOREIGN KEY (`c_addr_id`) REFERENCES `ADDR_CODES`(`c_addr_id`) ON UPDATE CASCADE ON DELETE CASCADE;\n",
      "ALTER TABLE `ENTRY_CODE_TYPE_REL` ADD FOREIGN KEY (`c_entry_code`) REFERENCES `ENTRY_CODES`(`c_entry_code`) ON UPDATE CASCADE ON DELETE CASCADE;\n",
      "ALTER TABLE `ENTRY_CODE_TYPE_REL` ADD FOREIGN KEY (`c_entry_type`) REFERENCES `ENTRY_TYPES`(`c_entry_type`) ON UPDATE CASCADE ON DELETE CASCADE;\n",
      "ALTER TABLE `SOCIAL_INSTITUTION_CODES` ADD FOREIGN KEY (`c_inst_name_code`) REFERENCES `SOCIAL_INSTITUTION_NAME_CODES`(`c_inst_name_code`) ON UPDATE CASCADE ON DELETE CASCADE;\n",
      "ALTER TABLE `BIOG_SOURCE_DATA` ADD FOREIGN KEY (`c_personid`) REFERENCES `BIOG_MAIN`(`c_personid`) ON UPDATE CASCADE ON DELETE CASCADE;\n",
      "ALTER TABLE `BIOG_SOURCE_DATA` ADD FOREIGN KEY (`c_textid`) REFERENCES `TEXT_CODES`(`c_textid`) ON UPDATE CASCADE ON DELETE CASCADE;\n",
      "ALTER TABLE `ENTRY_DATA` ADD FOREIGN KEY (`c_assoc_code`) REFERENCES `ASSOC_CODES`(`c_assoc_code`) ON UPDATE CASCADE ON DELETE CASCADE;\n",
      "ALTER TABLE `ENTRY_DATA` ADD FOREIGN KEY (`c_assoc_id`) REFERENCES `BIOG_MAIN`(`c_personid`) ON UPDATE CASCADE ON DELETE CASCADE;\n",
      "ALTER TABLE `ENTRY_DATA` ADD FOREIGN KEY (`c_entry_code`) REFERENCES `ENTRY_CODES`(`c_entry_code`) ON UPDATE CASCADE ON DELETE CASCADE;\n",
      "ALTER TABLE `ENTRY_DATA` ADD FOREIGN KEY (`c_inst_code`) REFERENCES `SOCIAL_INSTITUTION_CODES`(`c_inst_code`) ON UPDATE CASCADE ON DELETE CASCADE;\n",
      "ALTER TABLE `ENTRY_DATA` ADD FOREIGN KEY (`c_inst_name_code`) REFERENCES `SOCIAL_INSTITUTION_NAME_CODES`(`c_inst_name_code`) ON UPDATE CASCADE ON DELETE CASCADE;\n",
      "ALTER TABLE `ENTRY_DATA` ADD FOREIGN KEY (`c_kin_code`) REFERENCES `KINSHIP_CODES`(`c_kincode`) ON UPDATE CASCADE ON DELETE CASCADE;\n",
      "ALTER TABLE `ENTRY_DATA` ADD FOREIGN KEY (`c_personid`) REFERENCES `BIOG_MAIN`(`c_personid`) ON UPDATE CASCADE ON DELETE CASCADE;\n",
      "ALTER TABLE `STATUS_CODE_TYPE_REL` ADD FOREIGN KEY (`c_status_code`) REFERENCES `STATUS_CODES`(`c_status_code`) ON UPDATE CASCADE ON DELETE CASCADE;\n",
      "ALTER TABLE `STATUS_CODE_TYPE_REL` ADD FOREIGN KEY (`c_status_type_code`) REFERENCES `STATUS_TYPES`(`c_status_type_code`) ON UPDATE CASCADE ON DELETE CASCADE;\n",
      "ALTER TABLE `DATABASE_LINK_DATA` ADD FOREIGN KEY (`c_db_id`) REFERENCES `DATABASE_LINK_CODES`(`c_db_id`) ON UPDATE CASCADE ON DELETE CASCADE;\n",
      "ALTER TABLE `DATABASE_LINK_DATA` ADD FOREIGN KEY (`c_person_id`) REFERENCES `BIOG_MAIN`(`c_personid`) ON UPDATE CASCADE ON DELETE CASCADE;\n",
      "ALTER TABLE `ASSOC_CODE_TYPE_REL` ADD FOREIGN KEY (`c_assoc_code`) REFERENCES `ASSOC_CODES`(`c_assoc_code`) ON UPDATE CASCADE ON DELETE CASCADE;\n",
      "ALTER TABLE `ASSOC_CODE_TYPE_REL` ADD FOREIGN KEY (`c_assoc_type_id`) REFERENCES `ASSOC_TYPES`(`c_assoc_type_id`) ON UPDATE CASCADE ON DELETE CASCADE;\n",
      "ALTER TABLE `SOCIAL_INSTITUTION_ADDR` ADD FOREIGN KEY (`c_inst_addr_id`) REFERENCES `ADDR_CODES`(`c_addr_id`) ON UPDATE CASCADE ON DELETE CASCADE;\n",
      "ALTER TABLE `SOCIAL_INSTITUTION_ADDR` ADD FOREIGN KEY (`c_inst_addr_type_code`) REFERENCES `SOCIAL_INSTITUTION_ADDR_TYPES`(`c_inst_addr_type_code`) ON UPDATE CASCADE ON DELETE CASCADE;\n",
      "ALTER TABLE `SOCIAL_INSTITUTION_ADDR` ADD FOREIGN KEY (`c_inst_code`) REFERENCES `SOCIAL_INSTITUTION_CODES`(`c_inst_code`) ON UPDATE CASCADE ON DELETE CASCADE;\n",
      "ALTER TABLE `SOCIAL_INSTITUTION_ADDR` ADD FOREIGN KEY (`c_inst_name_code`) REFERENCES `SOCIAL_INSTITUTION_CODES`(`c_inst_name_code`) ON UPDATE CASCADE ON DELETE CASCADE;\n",
      "ALTER TABLE `BIOG_INST_DATA` ADD FOREIGN KEY (`c_bi_role_code`) REFERENCES `BIOG_INST_CODES`(`c_bi_role_code`) ON UPDATE CASCADE ON DELETE CASCADE;\n",
      "ALTER TABLE `BIOG_INST_DATA` ADD FOREIGN KEY (`c_inst_code`) REFERENCES `SOCIAL_INSTITUTION_CODES`(`c_inst_code`) ON UPDATE CASCADE ON DELETE CASCADE;\n",
      "ALTER TABLE `BIOG_INST_DATA` ADD FOREIGN KEY (`c_inst_name_code`) REFERENCES `SOCIAL_INSTITUTION_CODES`(`c_inst_name_code`) ON UPDATE CASCADE ON DELETE CASCADE;\n",
      "ALTER TABLE `BIOG_INST_DATA` ADD FOREIGN KEY (`c_personid`) REFERENCES `BIOG_MAIN`(`c_personid`) ON UPDATE CASCADE ON DELETE CASCADE;\n",
      "ALTER TABLE `EVENTS_ADDR` ADD FOREIGN KEY (`c_addr_id`) REFERENCES `ADDR_CODES`(`c_addr_id`) ON UPDATE CASCADE ON DELETE CASCADE;\n",
      "ALTER TABLE `EVENTS_ADDR` ADD FOREIGN KEY (`c_personid`) REFERENCES `BIOG_MAIN`(`c_personid`) ON UPDATE CASCADE ON DELETE CASCADE;\n"
     ]
    }
   ],
   "source": [
    "for i in read_primary_key():\n",
    "#     print(i)\n",
    "    forgien = [j['foreign_key'] for j in read_primary_key()[i]]\n",
    "    for t in read_primary_key()[i]:\n",
    "        prim = t['primary_key']\n",
    "        forg = t['foreign_key']\n",
    "        forg = forg.split('<gap>')\n",
    "        if forg[1] == '': continue\n",
    "#         print(t['foreign_key'])\n",
    "        print('ALTER TABLE `%s` ADD FOREIGN KEY (`%s`) REFERENCES `%s`(`%s`) ON UPDATE CASCADE ON DELETE CASCADE;' % (i.upper(), prim, forg[0].upper(),forg[1]))\n",
    "#     break\n"
   ]
  },
  {
   "cell_type": "code",
   "execution_count": null,
   "metadata": {},
   "outputs": [],
   "source": []
  }
 ],
 "metadata": {
  "kernelspec": {
   "display_name": "Python 3",
   "language": "python",
   "name": "python3"
  },
  "language_info": {
   "codemirror_mode": {
    "name": "ipython",
    "version": 3
   },
   "file_extension": ".py",
   "mimetype": "text/x-python",
   "name": "python",
   "nbconvert_exporter": "python",
   "pygments_lexer": "ipython3",
   "version": "3.5.2"
  }
 },
 "nbformat": 4,
 "nbformat_minor": 2
}
