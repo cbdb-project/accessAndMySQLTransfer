{
 "cells": [
  {
   "cell_type": "code",
   "execution_count": 19,
   "metadata": {
    "collapsed": true
   },
   "outputs": [],
   "source": [
    "# 获取access数据库信息\n",
    "import pyodbc\n",
    "conn_str = (\n",
    "    r'DRIVER={Microsoft Access Driver (*.mdb, *.accdb)};'\n",
    "    r'DBQ=C:\\Users\\cbdb\\Desktop\\CBDB beta\\20170829CBDBavBase.mdb;'\n",
    "    )\n",
    "cnxn = pyodbc.connect(conn_str)\n",
    "crsr = cnxn.cursor()\n",
    "\n",
    "# 获取全部表名\n",
    "def get_table_name():\n",
    "    table_list = []\n",
    "    for table_info in crsr.tables(tableType='TABLE'):\n",
    "        table_list.append(table_info.table_name)\n",
    "    return table_list\n",
    "#print(len(get_table_name()))\n",
    "\n",
    "# 获取creat_table_sql的信息\n",
    "def get_columns(table_name):\n",
    "    res = \"\"\n",
    "    \n",
    "    for row in crsr.columns(table=table_name):\n",
    "        column_name = row[3]\n",
    "        binary = \" CHARACTER SET utf8 COLLATE utf8_bin\" if column_name == \"c_name\" else \"\"\n",
    "        type_name = row[5]\n",
    "        type_name = type_name if type_name != 'VARCHAR' else 'VARCHAR(255)'\n",
    "        type_name = type_name if type_name != 'LONGCHAR' else 'LONGTEXT'\n",
    "        type_name = type_name if type_name != 'BYTE' else 'SMALLINT'\n",
    "        type_name = type_name if type_name != 'COUNTER' else 'INTEGER'\n",
    "        res += \"`%s` %s%s DEFAULT NULL,\" % (column_name, type_name, binary)\n",
    "        if 'id' in column_name or 'code' in column_name:\n",
    "            res += \"KEY `%s_%s_index` (`%s`),\" % (column_name, row[2], column_name)\n",
    "    res = res[:-1]\n",
    "    sql = \"CREATE TABLE `%s` ( %s )\" % (row[2], res)\n",
    "    return sql\n",
    "\n",
    "# 获取数据\n",
    "def get_valuse(table_name):\n",
    "    crsr.execute('SELECT * FROM `%s`' % (table_name))\n",
    "    rows = crsr.fetchall()\n",
    "    return rows\n",
    "\n",
    "# 获取mysql链接\n",
    "DB_CONNECTION = 'mysql'\n",
    "DB_HOST = 'localhost'\n",
    "DB_PORT = 3306\n",
    "DB_DATABASE = 'cbdb_dump'\n",
    "DB_USERNAME = 'root'\n",
    "DB_PASSWORD = 'ilove!@34'\n",
    "import pymysql\n",
    "from tqdm import tqdm\n",
    "\n",
    "# 获取全部表名\n",
    "def show_tables():\n",
    "    db = pymysql.connect(DB_HOST, DB_USERNAME, DB_PASSWORD, DB_DATABASE,charset=\"utf8mb4\")\n",
    "    cursor = db.cursor()\n",
    "    cursor.execute(\"show tables\")\n",
    "    data = cursor.fetchall()\n",
    "    print(len(data))\n",
    "    print(data)\n",
    "    db.close()\n",
    "\n",
    "# 创建表\n",
    "def creat_table(table_name, sql):\n",
    "    db = pymysql.connect(DB_HOST, DB_USERNAME, DB_PASSWORD, DB_DATABASE,charset=\"utf8mb4\")\n",
    "    cursor = db.cursor()\n",
    "    cursor.execute(\"DROP TABLE IF EXISTS `%s`\" % (table_name))\n",
    "    print('drop %s successed' % (table_name))\n",
    "    cursor.execute(sql)\n",
    "    print('create %s successed' % (table_name))\n",
    "    db.close()\n",
    "    \n",
    "# 批量插入数据\n",
    "def insert_values(table_name, rows):\n",
    "    db = pymysql.connect(DB_HOST, DB_USERNAME, DB_PASSWORD, DB_DATABASE,charset=\"utf8mb4\")\n",
    "    cursor = db.cursor()\n",
    "    count = 0\n",
    "    try:\n",
    "        for i in tqdm(range(len(rows))):\n",
    "            row = rows[i]\n",
    "            query = \"INSERT INTO `\"+table_name+\"` values (\"+','.join([\"%s\"]*len(row))+\");\"\n",
    "            cursor.execute(query, tuple(row))\n",
    "            count += 1\n",
    "        db.commit()\n",
    "    finally:\n",
    "        db.close()\n",
    "\n",
    "# 删除数据表\n",
    "def drop_tables(table_name):\n",
    "    db = pymysql.connect(DB_HOST, DB_USERNAME, DB_PASSWORD, DB_DATABASE,charset=\"utf8mb4\")\n",
    "    cursor = db.cursor()\n",
    "    cursor.execute(\"DROP TABLE IF EXISTS `%s`\" % (table_name))\n",
    "    db.close()\n",
    "    \n",
    "# 查询数据\n",
    "def select_table(table_name):\n",
    "    db = pymysql.connect(DB_HOST, DB_USERNAME, DB_PASSWORD, DB_DATABASE,charset=\"utf8mb4\")\n",
    "    cursor = db.cursor()\n",
    "    cursor.execute(\"SELECT * FROM `%s`\" % (table_name))\n",
    "    print(len(cursor.fetchall()))\n",
    "    db.close()\n",
    "    \n",
    "def main():\n",
    "    for table_name in get_table_name():\n",
    "        creat_table_sql = get_columns(table_name)\n",
    "        #print(creat_table_sql)\n",
    "        creat_table(table_name, creat_table_sql)\n",
    "        # insert values\n",
    "        rows = get_valuse(table_name)\n",
    "        insert_values(table_name, rows)\n",
    "    show_tables()"
   ]
  },
  {
   "cell_type": "code",
   "execution_count": null,
   "metadata": {
    "scrolled": true
   },
   "outputs": [
    {
     "name": "stdout",
     "output_type": "stream",
     "text": [
      "drop ADDR_BELONGS_DATA successed\n",
      "create ADDR_BELONGS_DATA successed\n"
     ]
    },
    {
     "name": "stderr",
     "output_type": "stream",
     "text": [
      "100%|██████████████████████████████████| 22010/22010 [00:03<00:00, 6467.18it/s]\n"
     ]
    },
    {
     "name": "stdout",
     "output_type": "stream",
     "text": [
      "drop ADDR_CODES successed\n",
      "create ADDR_CODES successed\n"
     ]
    },
    {
     "name": "stderr",
     "output_type": "stream",
     "text": [
      "100%|██████████████████████████████████| 21082/21082 [00:03<00:00, 5566.38it/s]\n"
     ]
    },
    {
     "name": "stdout",
     "output_type": "stream",
     "text": [
      "drop ADDR_PLACE_DATA successed\n",
      "create ADDR_PLACE_DATA successed\n"
     ]
    },
    {
     "name": "stderr",
     "output_type": "stream",
     "text": [
      "100%|██████████████████████████████████| 23692/23692 [00:03<00:00, 6695.77it/s]\n"
     ]
    },
    {
     "name": "stdout",
     "output_type": "stream",
     "text": [
      "drop ADDR_XY successed\n",
      "create ADDR_XY successed\n"
     ]
    },
    {
     "name": "stderr",
     "output_type": "stream",
     "text": [
      "100%|██████████████████████████████████| 21453/21453 [00:03<00:00, 6194.30it/s]\n"
     ]
    },
    {
     "name": "stdout",
     "output_type": "stream",
     "text": [
      "drop ADDRESSES successed\n",
      "create ADDRESSES successed\n"
     ]
    },
    {
     "name": "stderr",
     "output_type": "stream",
     "text": [
      "100%|██████████████████████████████████| 25962/25962 [00:05<00:00, 5083.10it/s]\n"
     ]
    },
    {
     "name": "stdout",
     "output_type": "stream",
     "text": [
      "drop ALTNAME_CODES successed\n",
      "create ALTNAME_CODES successed\n"
     ]
    },
    {
     "name": "stderr",
     "output_type": "stream",
     "text": [
      "100%|████████████████████████████████████████| 19/19 [00:00<00:00, 3799.55it/s]\n"
     ]
    },
    {
     "name": "stdout",
     "output_type": "stream",
     "text": [
      "drop ALTNAME_DATA successed\n",
      "create ALTNAME_DATA successed\n"
     ]
    },
    {
     "name": "stderr",
     "output_type": "stream",
     "text": [
      "100%|████████████████████████████████| 149279/149279 [00:26<00:00, 5598.80it/s]\n"
     ]
    },
    {
     "name": "stdout",
     "output_type": "stream",
     "text": [
      "drop APPOINTMENT_TYPE_CODES successed\n",
      "create APPOINTMENT_TYPE_CODES successed\n"
     ]
    },
    {
     "name": "stderr",
     "output_type": "stream",
     "text": [
      "100%|████████████████████████████████████████| 91/91 [00:00<00:00, 5352.35it/s]\n"
     ]
    },
    {
     "name": "stdout",
     "output_type": "stream",
     "text": [
      "drop ASSOC_CODE_TYPE_REL successed\n"
     ]
    },
    {
     "name": "stderr",
     "output_type": "stream",
     "text": [
      "c:\\users\\cbdb\\miniconda3\\lib\\site-packages\\pymysql\\cursors.py:166: Warning: (1071, 'Specified key was too long; max key length is 767 bytes')\n",
      "  result = self._query(query)\n"
     ]
    },
    {
     "name": "stdout",
     "output_type": "stream",
     "text": [
      "create ASSOC_CODE_TYPE_REL successed\n"
     ]
    },
    {
     "name": "stderr",
     "output_type": "stream",
     "text": [
      "100%|██████████████████████████████████████| 461/461 [00:00<00:00, 6778.74it/s]\n"
     ]
    },
    {
     "name": "stdout",
     "output_type": "stream",
     "text": [
      "drop ASSOC_CODES successed\n",
      "create ASSOC_CODES successed\n"
     ]
    },
    {
     "name": "stderr",
     "output_type": "stream",
     "text": [
      "100%|██████████████████████████████████████| 470/470 [00:00<00:00, 6350.69it/s]\n"
     ]
    },
    {
     "name": "stdout",
     "output_type": "stream",
     "text": [
      "drop ASSOC_DATA successed\n",
      "create ASSOC_DATA successed\n"
     ]
    },
    {
     "name": "stderr",
     "output_type": "stream",
     "text": [
      "100%|████████████████████████████████| 132049/132049 [00:39<00:00, 3329.19it/s]\n"
     ]
    },
    {
     "name": "stdout",
     "output_type": "stream",
     "text": [
      "drop ASSOC_TYPES successed\n",
      "create ASSOC_TYPES successed\n"
     ]
    },
    {
     "name": "stderr",
     "output_type": "stream",
     "text": [
      "100%|████████████████████████████████████████| 45/45 [00:00<00:00, 4999.70it/s]\n"
     ]
    },
    {
     "name": "stdout",
     "output_type": "stream",
     "text": [
      "drop ASSUME_OFFICE_CODES successed\n",
      "create ASSUME_OFFICE_CODES successed\n"
     ]
    },
    {
     "name": "stderr",
     "output_type": "stream",
     "text": [
      "100%|██████████████████████████████████████████| 5/5 [00:00<00:00, 4999.17it/s]\n"
     ]
    },
    {
     "name": "stdout",
     "output_type": "stream",
     "text": [
      "drop BIOG_ADDR_CODES successed\n",
      "create BIOG_ADDR_CODES successed\n"
     ]
    },
    {
     "name": "stderr",
     "output_type": "stream",
     "text": [
      "100%|████████████████████████████████████████| 22/22 [00:00<00:00, 4399.48it/s]\n"
     ]
    },
    {
     "name": "stdout",
     "output_type": "stream",
     "text": [
      "drop BIOG_ADDR_DATA successed\n",
      "create BIOG_ADDR_DATA successed\n"
     ]
    },
    {
     "name": "stderr",
     "output_type": "stream",
     "text": [
      "100%|████████████████████████████████| 289274/289274 [01:07<00:00, 4276.94it/s]\n"
     ]
    },
    {
     "name": "stdout",
     "output_type": "stream",
     "text": [
      "drop BIOG_INST_CODES successed\n",
      "create BIOG_INST_CODES successed\n"
     ]
    },
    {
     "name": "stderr",
     "output_type": "stream",
     "text": [
      "100%|████████████████████████████████████████| 24/24 [00:00<00:00, 4799.43it/s]\n"
     ]
    },
    {
     "name": "stdout",
     "output_type": "stream",
     "text": [
      "drop BIOG_INST_DATA successed\n",
      "create BIOG_INST_DATA successed\n"
     ]
    },
    {
     "name": "stderr",
     "output_type": "stream",
     "text": [
      "100%|██████████████████████████████████████| 234/234 [00:00<00:00, 4254.12it/s]\n"
     ]
    },
    {
     "name": "stdout",
     "output_type": "stream",
     "text": [
      "drop BIOG_MAIN successed\n",
      "create BIOG_MAIN successed\n"
     ]
    },
    {
     "name": "stderr",
     "output_type": "stream",
     "text": [
      "100%|████████████████████████████████| 417382/417382 [02:08<00:00, 3241.58it/s]\n"
     ]
    },
    {
     "name": "stdout",
     "output_type": "stream",
     "text": [
      "drop BIOG_SOURCE_DATA successed\n",
      "create BIOG_SOURCE_DATA successed\n"
     ]
    },
    {
     "name": "stderr",
     "output_type": "stream",
     "text": [
      "100%|████████████████████████████████| 427032/427032 [01:06<00:00, 6380.31it/s]\n"
     ]
    },
    {
     "name": "stdout",
     "output_type": "stream",
     "text": [
      "drop CHORONYM_CODES successed\n",
      "create CHORONYM_CODES successed\n"
     ]
    },
    {
     "name": "stderr",
     "output_type": "stream",
     "text": [
      "100%|██████████████████████████████████████| 170/170 [00:00<00:00, 6799.26it/s]\n"
     ]
    },
    {
     "name": "stdout",
     "output_type": "stream",
     "text": [
      "drop CopyMissingTables successed\n",
      "create CopyMissingTables successed\n"
     ]
    },
    {
     "name": "stderr",
     "output_type": "stream",
     "text": [
      "100%|████████████████████████████████████████| 42/42 [00:00<00:00, 5249.44it/s]\n"
     ]
    },
    {
     "name": "stdout",
     "output_type": "stream",
     "text": [
      "drop CopyTables successed\n",
      "create CopyTables successed\n"
     ]
    },
    {
     "name": "stderr",
     "output_type": "stream",
     "text": [
      "100%|████████████████████████████████████████| 18/18 [00:00<00:00, 4499.52it/s]\n"
     ]
    },
    {
     "name": "stdout",
     "output_type": "stream",
     "text": [
      "drop CopyTablesDefault successed\n",
      "create CopyTablesDefault successed\n"
     ]
    },
    {
     "name": "stderr",
     "output_type": "stream",
     "text": [
      "100%|████████████████████████████████████████| 67/67 [00:00<00:00, 6090.29it/s]\n"
     ]
    },
    {
     "name": "stdout",
     "output_type": "stream",
     "text": [
      "drop COUNTRY_CODES successed\n",
      "create COUNTRY_CODES successed\n"
     ]
    },
    {
     "name": "stderr",
     "output_type": "stream",
     "text": [
      "100%|██████████████████████████████████████████| 8/8 [00:00<00:00, 3999.81it/s]\n"
     ]
    },
    {
     "name": "stdout",
     "output_type": "stream",
     "text": [
      "drop DATABASE_LINK_CODES successed\n",
      "create DATABASE_LINK_CODES successed\n"
     ]
    },
    {
     "name": "stderr",
     "output_type": "stream",
     "text": [
      "100%|██████████████████████████████████████████| 3/3 [00:00<00:00, 3000.22it/s]\n"
     ]
    },
    {
     "name": "stdout",
     "output_type": "stream",
     "text": [
      "drop DATABASE_LINK_DATA successed\n",
      "create DATABASE_LINK_DATA successed\n"
     ]
    },
    {
     "name": "stderr",
     "output_type": "stream",
     "text": [
      "100%|██████████████████████████████████| 19059/19059 [00:02<00:00, 6601.00it/s]\n"
     ]
    },
    {
     "name": "stdout",
     "output_type": "stream",
     "text": [
      "drop DYNASTIES successed\n",
      "create DYNASTIES successed\n"
     ]
    },
    {
     "name": "stderr",
     "output_type": "stream",
     "text": [
      "100%|████████████████████████████████████████| 80/80 [00:00<00:00, 6153.16it/s]\n"
     ]
    },
    {
     "name": "stdout",
     "output_type": "stream",
     "text": [
      "drop ENTRY_CODE_TYPE_REL successed\n",
      "create ENTRY_CODE_TYPE_REL successed\n"
     ]
    },
    {
     "name": "stderr",
     "output_type": "stream",
     "text": [
      "100%|██████████████████████████████████████| 223/223 [00:00<00:00, 7192.80it/s]\n"
     ]
    },
    {
     "name": "stdout",
     "output_type": "stream",
     "text": [
      "drop ENTRY_CODES successed\n",
      "create ENTRY_CODES successed\n"
     ]
    },
    {
     "name": "stderr",
     "output_type": "stream",
     "text": [
      "100%|██████████████████████████████████████| 259/259 [00:00<00:00, 6316.43it/s]\n"
     ]
    },
    {
     "name": "stdout",
     "output_type": "stream",
     "text": [
      "drop ENTRY_DATA successed\n",
      "create ENTRY_DATA successed\n"
     ]
    },
    {
     "name": "stderr",
     "output_type": "stream",
     "text": [
      "100%|██████████████████████████████████| 92211/92211 [00:22<00:00, 4182.25it/s]\n"
     ]
    },
    {
     "name": "stdout",
     "output_type": "stream",
     "text": [
      "drop ENTRY_TYPES successed\n",
      "create ENTRY_TYPES successed\n"
     ]
    },
    {
     "name": "stderr",
     "output_type": "stream",
     "text": [
      "100%|████████████████████████████████████████| 26/26 [00:00<00:00, 5199.63it/s]\n"
     ]
    },
    {
     "name": "stdout",
     "output_type": "stream",
     "text": [
      "drop ETHNICITY_TRIBE_CODES successed\n",
      "create ETHNICITY_TRIBE_CODES successed\n"
     ]
    },
    {
     "name": "stderr",
     "output_type": "stream",
     "text": [
      "100%|██████████████████████████████████████| 497/497 [00:00<00:00, 4601.39it/s]\n"
     ]
    },
    {
     "name": "stdout",
     "output_type": "stream",
     "text": [
      "drop EVENT_CODES successed\n",
      "create EVENT_CODES successed\n"
     ]
    },
    {
     "name": "stderr",
     "output_type": "stream",
     "text": [
      "100%|██████████████████████████████████████| 117/117 [00:00<00:00, 4874.53it/s]\n"
     ]
    },
    {
     "name": "stdout",
     "output_type": "stream",
     "text": [
      "drop EVENTS_ADDR successed\n",
      "create EVENTS_ADDR successed\n"
     ]
    },
    {
     "name": "stderr",
     "output_type": "stream",
     "text": [
      "100%|██████████████████████████████████████████| 2/2 [00:00<00:00, 1999.67it/s]\n"
     ]
    },
    {
     "name": "stdout",
     "output_type": "stream",
     "text": [
      "drop EVENTS_DATA successed\n",
      "create EVENTS_DATA successed\n"
     ]
    },
    {
     "name": "stderr",
     "output_type": "stream",
     "text": [
      "100%|██████████████████████████████████████| 421/421 [00:00<00:00, 4209.57it/s]\n"
     ]
    },
    {
     "name": "stdout",
     "output_type": "stream",
     "text": [
      "drop EXTANT_CODES successed\n",
      "create EXTANT_CODES successed\n"
     ]
    },
    {
     "name": "stderr",
     "output_type": "stream",
     "text": [
      "100%|██████████████████████████████████████████| 4/4 [00:00<00:00, 4000.29it/s]\n"
     ]
    },
    {
     "name": "stdout",
     "output_type": "stream",
     "text": [
      "drop FIX_AUTHORS successed\n",
      "create FIX_AUTHORS successed\n"
     ]
    },
    {
     "name": "stderr",
     "output_type": "stream",
     "text": [
      "100%|██████████████████████████████████████| 194/194 [00:00<00:00, 5242.74it/s]\n"
     ]
    },
    {
     "name": "stdout",
     "output_type": "stream",
     "text": [
      "drop ForeignKeys successed\n",
      "create ForeignKeys successed\n"
     ]
    },
    {
     "name": "stderr",
     "output_type": "stream",
     "text": [
      "100%|██████████████████████████████████████| 182/182 [00:00<00:00, 5514.63it/s]\n"
     ]
    },
    {
     "name": "stdout",
     "output_type": "stream",
     "text": [
      "drop FormLabels successed\n",
      "create FormLabels successed\n"
     ]
    },
    {
     "name": "stderr",
     "output_type": "stream",
     "text": [
      "100%|██████████████████████████████████████| 330/330 [00:00<00:00, 6469.94it/s]\n"
     ]
    },
    {
     "name": "stdout",
     "output_type": "stream",
     "text": [
      "drop GANZHI_CODES successed\n",
      "create GANZHI_CODES successed\n"
     ]
    },
    {
     "name": "stderr",
     "output_type": "stream",
     "text": [
      "100%|████████████████████████████████████████| 61/61 [00:00<00:00, 5544.89it/s]\n"
     ]
    },
    {
     "name": "stdout",
     "output_type": "stream",
     "text": [
      "drop HOUSEHOLD_STATUS_CODES successed\n",
      "create HOUSEHOLD_STATUS_CODES successed\n"
     ]
    },
    {
     "name": "stderr",
     "output_type": "stream",
     "text": [
      "100%|████████████████████████████████████████| 34/34 [00:00<00:00, 4856.83it/s]\n"
     ]
    },
    {
     "name": "stdout",
     "output_type": "stream",
     "text": [
      "drop KIN_DATA successed\n",
      "create KIN_DATA successed\n"
     ]
    },
    {
     "name": "stderr",
     "output_type": "stream",
     "text": [
      "100%|████████████████████████████████| 484166/484166 [01:23<00:00, 5831.27it/s]\n"
     ]
    },
    {
     "name": "stdout",
     "output_type": "stream",
     "text": [
      "drop KIN_Mourning successed\n",
      "create KIN_Mourning successed\n"
     ]
    },
    {
     "name": "stderr",
     "output_type": "stream",
     "text": [
      "100%|██████████████████████████████████████| 159/159 [00:00<00:00, 6114.71it/s]\n"
     ]
    },
    {
     "name": "stdout",
     "output_type": "stream",
     "text": [
      "drop KIN_MOURNING_STEPS successed\n",
      "create KIN_MOURNING_STEPS successed\n"
     ]
    },
    {
     "name": "stderr",
     "output_type": "stream",
     "text": [
      "100%|██████████████████████████████████████| 160/160 [00:00<00:00, 6666.02it/s]\n"
     ]
    },
    {
     "name": "stdout",
     "output_type": "stream",
     "text": [
      "drop KINSHIP_CODES successed\n",
      "create KINSHIP_CODES successed\n"
     ]
    },
    {
     "name": "stderr",
     "output_type": "stream",
     "text": [
      "100%|██████████████████████████████████████| 479/479 [00:00<00:00, 5912.98it/s]\n"
     ]
    },
    {
     "name": "stdout",
     "output_type": "stream",
     "text": [
      "drop LITERARYGENRE_CODES successed\n",
      "create LITERARYGENRE_CODES successed\n"
     ]
    },
    {
     "name": "stderr",
     "output_type": "stream",
     "text": [
      "100%|████████████████████████████████████████| 12/12 [00:00<00:00, 3999.34it/s]\n"
     ]
    },
    {
     "name": "stdout",
     "output_type": "stream",
     "text": [
      "drop MEASURE_CODES successed\n",
      "create MEASURE_CODES successed\n"
     ]
    },
    {
     "name": "stderr",
     "output_type": "stream",
     "text": [
      "100%|██████████████████████████████████████████| 7/7 [00:00<00:00, 3499.42it/s]\n"
     ]
    },
    {
     "name": "stdout",
     "output_type": "stream",
     "text": [
      "drop NIAN_HAO successed\n",
      "create NIAN_HAO successed\n"
     ]
    },
    {
     "name": "stderr",
     "output_type": "stream",
     "text": [
      "100%|██████████████████████████████████████| 682/682 [00:00<00:00, 6034.78it/s]\n"
     ]
    },
    {
     "name": "stdout",
     "output_type": "stream",
     "text": [
      "drop OCCASION_CODES successed\n",
      "create OCCASION_CODES successed\n"
     ]
    },
    {
     "name": "stderr",
     "output_type": "stream",
     "text": [
      "100%|████████████████████████████████████████| 10/10 [00:00<00:00, 3333.05it/s]\n"
     ]
    },
    {
     "name": "stdout",
     "output_type": "stream",
     "text": [
      "drop OFFICE_CATEGORIES successed\n",
      "create OFFICE_CATEGORIES successed\n"
     ]
    },
    {
     "name": "stderr",
     "output_type": "stream",
     "text": [
      "100%|████████████████████████████████████████| 15/15 [00:00<00:00, 3749.38it/s]\n"
     ]
    },
    {
     "name": "stdout",
     "output_type": "stream",
     "text": [
      "drop OFFICE_CODE_TYPE_REL successed\n",
      "create OFFICE_CODE_TYPE_REL successed\n"
     ]
    },
    {
     "name": "stderr",
     "output_type": "stream",
     "text": [
      "100%|██████████████████████████████████| 35001/35001 [00:06<00:00, 5507.08it/s]\n"
     ]
    },
    {
     "name": "stdout",
     "output_type": "stream",
     "text": [
      "drop OFFICE_CODES successed\n",
      "create OFFICE_CODES successed\n"
     ]
    },
    {
     "name": "stderr",
     "output_type": "stream",
     "text": [
      "100%|██████████████████████████████████| 30519/30519 [00:05<00:00, 5413.51it/s]\n"
     ]
    },
    {
     "name": "stdout",
     "output_type": "stream",
     "text": [
      "drop OFFICE_CODES_CONVERSION successed\n",
      "create OFFICE_CODES_CONVERSION successed\n"
     ]
    },
    {
     "name": "stderr",
     "output_type": "stream",
     "text": [
      "100%|██████████████████████████████████████| 718/718 [00:00<00:00, 6410.07it/s]\n"
     ]
    },
    {
     "name": "stdout",
     "output_type": "stream",
     "text": [
      "drop OFFICE_TYPE_TREE successed\n",
      "create OFFICE_TYPE_TREE successed\n"
     ]
    },
    {
     "name": "stderr",
     "output_type": "stream",
     "text": [
      "100%|████████████████████████████████████| 2012/2012 [00:00<00:00, 6152.29it/s]\n"
     ]
    },
    {
     "name": "stdout",
     "output_type": "stream",
     "text": [
      "drop OFFICE_TYPE_TREE_backup successed\n",
      "create OFFICE_TYPE_TREE_backup successed\n"
     ]
    },
    {
     "name": "stderr",
     "output_type": "stream",
     "text": [
      "100%|████████████████████████████████████| 2012/2012 [00:00<00:00, 5797.69it/s]\n"
     ]
    },
    {
     "name": "stdout",
     "output_type": "stream",
     "text": [
      "drop PARENTAL_STATUS_CODES successed\n",
      "create PARENTAL_STATUS_CODES successed\n"
     ]
    },
    {
     "name": "stderr",
     "output_type": "stream",
     "text": [
      "100%|██████████████████████████████████████████| 7/7 [00:00<00:00, 3499.42it/s]\n"
     ]
    },
    {
     "name": "stdout",
     "output_type": "stream",
     "text": [
      "drop PLACE_CODES successed\n",
      "create PLACE_CODES successed\n"
     ]
    },
    {
     "name": "stderr",
     "output_type": "stream",
     "text": [
      "100%|████████████████████████████████████| 2502/2502 [00:00<00:00, 5942.40it/s]\n"
     ]
    },
    {
     "name": "stdout",
     "output_type": "stream",
     "text": [
      "drop POSSESSION_ACT_CODES successed\n",
      "create POSSESSION_ACT_CODES successed\n"
     ]
    },
    {
     "name": "stderr",
     "output_type": "stream",
     "text": [
      "100%|██████████████████████████████████████████| 4/4 [00:00<00:00, 3999.34it/s]\n"
     ]
    },
    {
     "name": "stdout",
     "output_type": "stream",
     "text": [
      "drop POSSESSION_ADDR successed\n",
      "create POSSESSION_ADDR successed\n"
     ]
    },
    {
     "name": "stderr",
     "output_type": "stream",
     "text": [
      "100%|████████████████████████████████████████████████████| 1/1 [00:00<?, ?it/s]\n"
     ]
    },
    {
     "name": "stdout",
     "output_type": "stream",
     "text": [
      "drop POSSESSION_DATA successed\n",
      "create POSSESSION_DATA successed\n"
     ]
    },
    {
     "name": "stderr",
     "output_type": "stream",
     "text": [
      "100%|██████████████████████████████████████████| 5/5 [00:00<00:00, 2499.88it/s]\n"
     ]
    },
    {
     "name": "stdout",
     "output_type": "stream",
     "text": [
      "drop POSTED_TO_ADDR_DATA successed\n",
      "create POSTED_TO_ADDR_DATA successed\n"
     ]
    },
    {
     "name": "stderr",
     "output_type": "stream",
     "text": [
      "100%|████████████████████████████████| 164229/164229 [00:27<00:00, 6006.97it/s]\n"
     ]
    },
    {
     "name": "stdout",
     "output_type": "stream",
     "text": [
      "drop POSTED_TO_OFFICE_DATA successed\n",
      "create POSTED_TO_OFFICE_DATA successed\n"
     ]
    },
    {
     "name": "stderr",
     "output_type": "stream",
     "text": [
      "100%|████████████████████████████████| 218016/218016 [01:03<00:00, 3426.18it/s]\n"
     ]
    },
    {
     "name": "stdout",
     "output_type": "stream",
     "text": [
      "drop POSTING_DATA successed\n",
      "create POSTING_DATA successed\n"
     ]
    },
    {
     "name": "stderr",
     "output_type": "stream",
     "text": [
      "100%|████████████████████████████████| 218015/218015 [00:33<00:00, 6512.31it/s]\n"
     ]
    },
    {
     "name": "stdout",
     "output_type": "stream",
     "text": [
      "drop SCHOLARLYTOPIC_CODES successed\n",
      "create SCHOLARLYTOPIC_CODES successed\n"
     ]
    },
    {
     "name": "stderr",
     "output_type": "stream",
     "text": [
      "100%|████████████████████████████████████████| 32/32 [00:00<00:00, 3999.57it/s]\n"
     ]
    },
    {
     "name": "stdout",
     "output_type": "stream",
     "text": [
      "drop SOCIAL_INSTITUTION_ADDR successed\n",
      "create SOCIAL_INSTITUTION_ADDR successed\n"
     ]
    },
    {
     "name": "stderr",
     "output_type": "stream",
     "text": [
      "100%|████████████████████████████████████| 3745/3745 [00:00<00:00, 5157.89it/s]\n"
     ]
    },
    {
     "name": "stdout",
     "output_type": "stream",
     "text": [
      "drop SOCIAL_INSTITUTION_ADDR_TYPES successed\n",
      "create SOCIAL_INSTITUTION_ADDR_TYPES successed\n"
     ]
    },
    {
     "name": "stderr",
     "output_type": "stream",
     "text": [
      "100%|██████████████████████████████████████████| 2/2 [00:00<00:00, 2000.14it/s]\n"
     ]
    },
    {
     "name": "stdout",
     "output_type": "stream",
     "text": [
      "drop SOCIAL_INSTITUTION_ALTNAME_CODES successed\n",
      "create SOCIAL_INSTITUTION_ALTNAME_CODES successed\n"
     ]
    },
    {
     "name": "stderr",
     "output_type": "stream",
     "text": [
      "100%|██████████████████████████████████████████| 1/1 [00:00<00:00, 1000.07it/s]\n"
     ]
    },
    {
     "name": "stdout",
     "output_type": "stream",
     "text": [
      "drop SOCIAL_INSTITUTION_ALTNAME_DATA successed\n",
      "create SOCIAL_INSTITUTION_ALTNAME_DATA successed\n"
     ]
    },
    {
     "name": "stderr",
     "output_type": "stream",
     "text": [
      "0it [00:00, ?it/s]\n"
     ]
    },
    {
     "name": "stdout",
     "output_type": "stream",
     "text": [
      "drop SOCIAL_INSTITUTION_CODES successed\n",
      "create SOCIAL_INSTITUTION_CODES successed\n"
     ]
    },
    {
     "name": "stderr",
     "output_type": "stream",
     "text": [
      "100%|████████████████████████████████████| 3886/3886 [00:00<00:00, 4576.69it/s]\n"
     ]
    },
    {
     "name": "stdout",
     "output_type": "stream",
     "text": [
      "drop SOCIAL_INSTITUTION_CODES_CONVERSION successed\n",
      "create SOCIAL_INSTITUTION_CODES_CONVERSION successed\n"
     ]
    },
    {
     "name": "stderr",
     "output_type": "stream",
     "text": [
      "100%|████████████████████████████████████| 2881/2881 [00:00<00:00, 6387.39it/s]\n"
     ]
    },
    {
     "name": "stdout",
     "output_type": "stream",
     "text": [
      "drop SOCIAL_INSTITUTION_NAME_CODES successed\n",
      "create SOCIAL_INSTITUTION_NAME_CODES successed\n"
     ]
    },
    {
     "name": "stderr",
     "output_type": "stream",
     "text": [
      "100%|████████████████████████████████████| 2505/2505 [00:00<00:00, 6715.15it/s]\n"
     ]
    },
    {
     "name": "stdout",
     "output_type": "stream",
     "text": [
      "drop SOCIAL_INSTITUTION_TYPES successed\n",
      "create SOCIAL_INSTITUTION_TYPES successed\n"
     ]
    },
    {
     "name": "stderr",
     "output_type": "stream",
     "text": [
      "100%|██████████████████████████████████████████| 4/4 [00:00<00:00, 4000.29it/s]\n"
     ]
    },
    {
     "name": "stdout",
     "output_type": "stream",
     "text": [
      "drop STATUS_CODE_TYPE_REL successed\n",
      "create STATUS_CODE_TYPE_REL successed\n"
     ]
    },
    {
     "name": "stderr",
     "output_type": "stream",
     "text": [
      "0it [00:00, ?it/s]\n"
     ]
    },
    {
     "name": "stdout",
     "output_type": "stream",
     "text": [
      "drop STATUS_CODES successed\n",
      "create STATUS_CODES successed\n"
     ]
    },
    {
     "name": "stderr",
     "output_type": "stream",
     "text": [
      "100%|██████████████████████████████████████| 264/264 [00:00<00:00, 7134.41it/s]\n"
     ]
    },
    {
     "name": "stdout",
     "output_type": "stream",
     "text": [
      "drop STATUS_DATA successed\n",
      "create STATUS_DATA successed\n"
     ]
    },
    {
     "name": "stderr",
     "output_type": "stream",
     "text": [
      "100%|██████████████████████████████████| 54582/54582 [00:11<00:00, 4930.13it/s]\n"
     ]
    },
    {
     "name": "stdout",
     "output_type": "stream",
     "text": [
      "drop STATUS_TYPES successed\n",
      "create STATUS_TYPES successed\n"
     ]
    },
    {
     "name": "stderr",
     "output_type": "stream",
     "text": [
      "100%|██████████████████████████████████████████| 9/9 [00:00<00:00, 4499.25it/s]\n"
     ]
    },
    {
     "name": "stdout",
     "output_type": "stream",
     "text": [
      "drop TablesFields successed\n",
      "create TablesFields successed\n"
     ]
    },
    {
     "name": "stderr",
     "output_type": "stream",
     "text": [
      "100%|██████████████████████████████████████| 667/667 [00:00<00:00, 6063.04it/s]\n"
     ]
    },
    {
     "name": "stdout",
     "output_type": "stream",
     "text": [
      "drop TablesFieldsChanges successed\n",
      "create TablesFieldsChanges successed\n"
     ]
    },
    {
     "name": "stderr",
     "output_type": "stream",
     "text": [
      "100%|██████████████████████████████████████| 367/367 [00:00<00:00, 6923.85it/s]\n"
     ]
    },
    {
     "name": "stdout",
     "output_type": "stream",
     "text": [
      "drop Tang bureaucratic tree successed\n",
      "create Tang bureaucratic tree successed\n"
     ]
    },
    {
     "name": "stderr",
     "output_type": "stream",
     "text": [
      "100%|██████████████████████████████████████| 389/389 [00:00<00:00, 6273.56it/s]\n"
     ]
    }
   ],
   "source": [
    "main()"
   ]
  },
  {
   "cell_type": "code",
   "execution_count": 16,
   "metadata": {
    "collapsed": true
   },
   "outputs": [
    {
     "data": {
      "text/plain": [
       "['ADDR_BELONGS_DATA',\n",
       " 'ADDR_CODES',\n",
       " 'ADDR_PLACE_DATA',\n",
       " 'ADDR_XY',\n",
       " 'ADDRESSES',\n",
       " 'ALTNAME_CODES',\n",
       " 'ALTNAME_DATA',\n",
       " 'APPOINTMENT_TYPE_CODES',\n",
       " 'ASSOC_CODE_TYPE_REL',\n",
       " 'ASSOC_CODES',\n",
       " 'ASSOC_DATA',\n",
       " 'ASSOC_TYPES',\n",
       " 'ASSUME_OFFICE_CODES',\n",
       " 'BIOG_ADDR_CODES',\n",
       " 'BIOG_ADDR_DATA',\n",
       " 'BIOG_INST_CODES',\n",
       " 'BIOG_INST_DATA',\n",
       " 'BIOG_MAIN',\n",
       " 'BIOG_SOURCE_DATA',\n",
       " 'CHORONYM_CODES',\n",
       " 'CopyMissingTables',\n",
       " 'CopyTables',\n",
       " 'CopyTablesDefault',\n",
       " 'COUNTRY_CODES',\n",
       " 'DATABASE_LINK_CODES',\n",
       " 'DATABASE_LINK_DATA',\n",
       " 'DYNASTIES',\n",
       " 'ENTRY_CODE_TYPE_REL',\n",
       " 'ENTRY_CODES',\n",
       " 'ENTRY_DATA',\n",
       " 'ENTRY_TYPES',\n",
       " 'ETHNICITY_TRIBE_CODES',\n",
       " 'EVENT_CODES',\n",
       " 'EVENTS_ADDR',\n",
       " 'EVENTS_DATA',\n",
       " 'EXTANT_CODES',\n",
       " 'FIX_AUTHORS',\n",
       " 'ForeignKeys',\n",
       " 'FormLabels',\n",
       " 'GANZHI_CODES',\n",
       " 'HOUSEHOLD_STATUS_CODES',\n",
       " 'KIN_DATA',\n",
       " 'KIN_Mourning',\n",
       " 'KIN_MOURNING_STEPS',\n",
       " 'KINSHIP_CODES',\n",
       " 'LITERARYGENRE_CODES',\n",
       " 'MEASURE_CODES',\n",
       " 'NIAN_HAO',\n",
       " 'OCCASION_CODES',\n",
       " 'OFFICE_CATEGORIES',\n",
       " 'OFFICE_CODE_TYPE_REL',\n",
       " 'OFFICE_CODES',\n",
       " 'OFFICE_CODES_CONVERSION',\n",
       " 'OFFICE_TYPE_TREE',\n",
       " 'OFFICE_TYPE_TREE_backup',\n",
       " 'PARENTAL_STATUS_CODES',\n",
       " 'PLACE_CODES',\n",
       " 'POSSESSION_ACT_CODES',\n",
       " 'POSSESSION_ADDR',\n",
       " 'POSSESSION_DATA',\n",
       " 'POSTED_TO_ADDR_DATA',\n",
       " 'POSTED_TO_OFFICE_DATA',\n",
       " 'POSTING_DATA',\n",
       " 'SCHOLARLYTOPIC_CODES',\n",
       " 'SOCIAL_INSTITUTION_ADDR',\n",
       " 'SOCIAL_INSTITUTION_ADDR_TYPES',\n",
       " 'SOCIAL_INSTITUTION_ALTNAME_CODES',\n",
       " 'SOCIAL_INSTITUTION_ALTNAME_DATA',\n",
       " 'SOCIAL_INSTITUTION_CODES',\n",
       " 'SOCIAL_INSTITUTION_CODES_CONVERSION',\n",
       " 'SOCIAL_INSTITUTION_NAME_CODES',\n",
       " 'SOCIAL_INSTITUTION_TYPES',\n",
       " 'STATUS_CODE_TYPE_REL',\n",
       " 'STATUS_CODES',\n",
       " 'STATUS_DATA',\n",
       " 'STATUS_TYPES',\n",
       " 'TablesFields',\n",
       " 'TablesFieldsChanges',\n",
       " 'Tang bureaucratic tree',\n",
       " 'TEXT_BIBLCAT_CODE_TYPE_REL',\n",
       " 'TEXT_BIBLCAT_CODES',\n",
       " 'TEXT_BIBLCAT_TYPES',\n",
       " 'TEXT_BIBLCAT_TYPES_1',\n",
       " 'TEXT_CODES',\n",
       " 'TEXT_DATA',\n",
       " 'TEXT_ROLE_CODES',\n",
       " 'TEXT_TYPE',\n",
       " 'tmpBM_NIY',\n",
       " 'tmpBM_NIY_finished',\n",
       " 'tmpIndexYear',\n",
       " 'YEAR_RANGE_CODES']"
      ]
     },
     "execution_count": 16,
     "metadata": {},
     "output_type": "execute_result"
    }
   ],
   "source": [
    "get_table_name()"
   ]
  },
  {
   "cell_type": "code",
   "execution_count": null,
   "metadata": {
    "collapsed": true
   },
   "outputs": [],
   "source": []
  }
 ],
 "metadata": {
  "kernelspec": {
   "display_name": "Python 3",
   "language": "python",
   "name": "python3"
  },
  "language_info": {
   "codemirror_mode": {
    "name": "ipython",
    "version": 3
   },
   "file_extension": ".py",
   "mimetype": "text/x-python",
   "name": "python",
   "nbconvert_exporter": "python",
   "pygments_lexer": "ipython3",
   "version": "3.6.1"
  }
 },
 "nbformat": 4,
 "nbformat_minor": 2
}
