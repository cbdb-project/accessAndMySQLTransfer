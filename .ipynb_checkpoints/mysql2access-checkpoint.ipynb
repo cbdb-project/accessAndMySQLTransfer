{
 "cells": [
  {
   "cell_type": "code",
   "execution_count": 1,
   "metadata": {},
   "outputs": [],
   "source": [
    "import pymysql\n",
    "from tqdm import tqdm\n",
    "import pyodbc\n",
    "\n",
    "DB_CONNECTION = 'mysql'\n",
    "DB_HOST = 'localhost'\n",
    "DB_PORT = 3306\n",
    "DB_DATABASE = '***'\n",
    "DB_USERNAME = '***'\n",
    "DB_PASSWORD = '***'\n",
    "\n",
    "field_type = {\n",
    " 1: 'INTEGER',\n",
    " 2: 'INTEGER',\n",
    " 3: 'INTEGER',\n",
    " 5: 'DOUBLE',\n",
    " 7: 'TIMESTAMP',\n",
    " 12: 'TIMESTAMP',\n",
    " 16: 'BIT',\n",
    " 252: 'LONGTEXT',\n",
    " 253: 'VARCHAR(255)',\n",
    " }\n",
    "\n",
    "conn_str = (\n",
    "    r'DRIVER={Microsoft Access Driver (*.mdb, *.accdb)};'\n",
    "    r'DBQ=C:\\Users\\Hongsu\\Desktop\\mysql2access\\cbdb.mdb;'\n",
    "    )\n",
    "cnxn = pyodbc.connect(conn_str)\n",
    "crsr = cnxn.cursor()"
   ]
  },
  {
   "cell_type": "code",
   "execution_count": 2,
   "metadata": {},
   "outputs": [],
   "source": [
    "def get_table_name():\n",
    "    db = pymysql.connect(DB_HOST, DB_USERNAME, DB_PASSWORD, DB_DATABASE,charset=\"utf8mb4\")\n",
    "    cursor = db.cursor()\n",
    "    cursor.execute(\"show tables\")\n",
    "    data = cursor.fetchall()\n",
    "#    print(len(data))\n",
    "#    print(data)\n",
    "    db.close()\n",
    "    return data"
   ]
  },
  {
   "cell_type": "code",
   "execution_count": 3,
   "metadata": {},
   "outputs": [],
   "source": [
    "def get_columns(table_name):\n",
    "    res = \"\"\n",
    "    db = pymysql.connect(DB_HOST, DB_USERNAME, DB_PASSWORD, DB_DATABASE,charset=\"utf8mb4\")\n",
    "    cursor = db.cursor()\n",
    "    sqlSentence = \"select * from `%s` limit 1\"%table_name\n",
    "    cursor.execute(sqlSentence)\n",
    "    dataSchema = cursor.description\n",
    "    for row in dataSchema:\n",
    "        column_name = row[0]\n",
    "        type_name = field_type[row[1]]\n",
    "        res += \"`%s` %s,\" % (column_name, type_name)\n",
    "    res = res[:-1]\n",
    "    sql = \"CREATE TABLE `%s` ( %s )\" % (table_name, res)\n",
    "    db.close()\n",
    "    return sql\n",
    "\n",
    "def creat_table(table_name, sql, table_list):\n",
    "    if table_name in table_list:\n",
    "        print(\"DROP TABLE `%s`\" % (table_name))\n",
    "        crsr.execute(\"DROP TABLE `%s`\" % (table_name))\n",
    "        cnxn.commit()\n",
    "        print('drop %s successed' % (table_name))\n",
    "    crsr.execute(sql)\n",
    "    cnxn.commit()\n",
    "    print('create %s successed' % (table_name))\n",
    "\n",
    "def get_values(table_name):\n",
    "    db = pymysql.connect(DB_HOST, DB_USERNAME, DB_PASSWORD, DB_DATABASE,charset=\"utf8mb4\")\n",
    "    cursor = db.cursor()\n",
    "    cursor.execute('SELECT * FROM `%s`' % (table_name))\n",
    "    data = cursor.fetchall()\n",
    "    db.close()\n",
    "    return data\n",
    "\n",
    "def insert_values(table_name, rows):\n",
    "    count = 0\n",
    "    isNum = False\n",
    "    for i in tqdm(range(len(rows))):\n",
    "        try:\n",
    "            row = list(rows[i])\n",
    "            for i in range(len(row)):\n",
    "                if row[i] == b'\\x00':\n",
    "                    row[i] = 0\n",
    "                elif row[i] == b'\\x01':\n",
    "                    row[i] = 1\n",
    "            query = \"INSERT INTO `\"+table_name+\"` values (\"+','.join([\"?\"]*len(row))+\");\"\n",
    "            crsr.execute(query,tuple(row))\n",
    "            count += 1\n",
    "        except:\n",
    "            print(\"stop at:\")\n",
    "            print(i)\n",
    "            print(rows[i])\n",
    "            print(row)\n",
    "            print(\"INSERT INTO `\"+table_name+\"` values (\"+','.join([\"?\"]*len(row))+\");\")\n",
    "            raise\n",
    "    cnxn.commit()\n"
   ]
  },
  {
   "cell_type": "code",
   "execution_count": 4,
   "metadata": {},
   "outputs": [],
   "source": [
    "def main():\n",
    "    table_list = []\n",
    "    for table_info in crsr.tables(tableType='TABLE'):\n",
    "        table_list.append(table_info.table_name)\n",
    "    print(table_list)   \n",
    "    for table_name in get_table_name():\n",
    "        table_name = table_name[0].upper()\n",
    "        creat_table_sql = get_columns(table_name)\n",
    "        creat_table(table_name, creat_table_sql, table_list)\n",
    "        rows = get_values(table_name)\n",
    "        insert_values(table_name, rows)\n",
    "    cnxn.close()"
   ]
  },
  {
   "cell_type": "code",
   "execution_count": 5,
   "metadata": {},
   "outputs": [
    {
     "name": "stdout",
     "output_type": "stream",
     "text": [
      "['ADDR_BELONGS_DATA', 'ADDR_CODES', 'ADDR_PLACE_DATA', 'ADDR_XY', 'ADDRESSES', 'ALTNAME_CODES', 'ALTNAME_DATA', 'APPOINTMENT_TYPE_CODES', 'ASSOC_CODE_TYPE_REL', 'ASSOC_CODES', 'ASSOC_DATA', 'ASSOC_TYPES', 'ASSUME_OFFICE_CODES', 'BIOG_ADDR_CODES', 'BIOG_ADDR_DATA', 'BIOG_INST_CODES', 'BIOG_INST_DATA', 'BIOG_MAIN', 'BIOG_SOURCE_DATA', 'CHORONYM_CODES', 'COPYMISSINGTABLES', 'COPYTABLES', 'COPYTABLESDEFAULT', 'COUNTRY_CODES', 'DATABASE_LINK_CODES', 'DATABASE_LINK_DATA', 'DYNASTIES', 'ENTRY_CODE_TYPE_REL', 'ENTRY_CODES', 'ENTRY_DATA', 'ENTRY_TYPES', 'ETHNICITY_TRIBE_CODES', 'EVENT_CODES', 'EVENTS_ADDR', 'EVENTS_DATA', 'EXTANT_CODES', 'FIX_AUTHORS', 'FOREIGNKEYS', 'FORMLABELS', 'GANZHI_CODES', 'HOUSEHOLD_STATUS_CODES', 'KIN_DATA', 'KIN_MOURNING', 'KIN_MOURNING_STEPS', 'KINSHIP_CODES', 'LITERARYGENRE_CODES', 'MEASURE_CODES', 'MIGRATIONS', 'NIAN_HAO', 'OAUTH_ACCESS_TOKENS', 'OAUTH_AUTH_CODES', 'OAUTH_CLIENTS', 'OAUTH_PERSONAL_ACCESS_CLIENTS', 'OAUTH_REFRESH_TOKENS', 'OCCASION_CODES', 'OFFICE_CATEGORIES', 'OFFICE_CODE_TYPE_REL', 'OFFICE_CODES', 'OFFICE_CODES_CONVERSION', 'OFFICE_TYPE_TREE', 'OFFICE_TYPE_TREE_BACKUP', 'PARENTAL_STATUS_CODES', 'PLACE_CODES', 'POSSESSION_ACT_CODES', 'POSSESSION_ADDR', 'POSSESSION_DATA', 'POSTED_TO_ADDR_DATA', 'POSTED_TO_OFFICE_DATA', 'POSTING_DATA', 'SCHOLARLYTOPIC_CODES', 'SOCIAL_INSTITUTION_ADDR', 'SOCIAL_INSTITUTION_ADDR_TYPES', 'SOCIAL_INSTITUTION_ALTNAME_CODES', 'SOCIAL_INSTITUTION_ALTNAME_DATA', 'SOCIAL_INSTITUTION_CODES', 'SOCIAL_INSTITUTION_CODES_CONVERSION', 'SOCIAL_INSTITUTION_NAME_CODES', 'SOCIAL_INSTITUTION_TYPES', 'STATUS_CODE_TYPE_REL', 'STATUS_CODES', 'STATUS_DATA', 'STATUS_TYPES', 'TABLESFIELDS', 'TABLESFIELDSCHANGES', 'TANG BUREAUCRATIC TREE', 'TEXT_BIBLCAT_CODE_TYPE_REL', 'TEXT_BIBLCAT_CODES', 'TEXT_BIBLCAT_TYPES', 'TEXT_BIBLCAT_TYPES_1', 'TEXT_CODES', 'TEXT_DATA', 'TEXT_ROLE_CODES', 'TEXT_TYPE', 'YEAR_RANGE_CODES']\n",
      "DROP TABLE `ADDR_BELONGS_DATA`\n",
      "drop ADDR_BELONGS_DATA successed\n",
      "create ADDR_BELONGS_DATA successed\n"
     ]
    },
    {
     "name": "stderr",
     "output_type": "stream",
     "text": [
      "100%|██████████████████████████████████████████████████████████████████████████| 22010/22010 [00:06<00:00, 3619.54it/s]\n"
     ]
    },
    {
     "name": "stdout",
     "output_type": "stream",
     "text": [
      "DROP TABLE `ADDR_CODES`\n",
      "drop ADDR_CODES successed\n",
      "create ADDR_CODES successed\n"
     ]
    },
    {
     "name": "stderr",
     "output_type": "stream",
     "text": [
      "100%|██████████████████████████████████████████████████████████████████████████| 21084/21084 [00:07<00:00, 2849.87it/s]\n"
     ]
    },
    {
     "name": "stdout",
     "output_type": "stream",
     "text": [
      "DROP TABLE `ADDR_PLACE_DATA`\n",
      "drop ADDR_PLACE_DATA successed\n",
      "create ADDR_PLACE_DATA successed\n"
     ]
    },
    {
     "name": "stderr",
     "output_type": "stream",
     "text": [
      "100%|██████████████████████████████████████████████████████████████████████████| 23692/23692 [00:04<00:00, 5007.41it/s]\n"
     ]
    },
    {
     "name": "stdout",
     "output_type": "stream",
     "text": [
      "DROP TABLE `ADDR_XY`\n",
      "drop ADDR_XY successed\n",
      "create ADDR_XY successed\n"
     ]
    },
    {
     "name": "stderr",
     "output_type": "stream",
     "text": [
      "100%|██████████████████████████████████████████████████████████████████████████| 21453/21453 [00:05<00:00, 4153.80it/s]\n"
     ]
    },
    {
     "name": "stdout",
     "output_type": "stream",
     "text": [
      "DROP TABLE `ADDRESSES`\n",
      "drop ADDRESSES successed\n",
      "create ADDRESSES successed\n"
     ]
    },
    {
     "name": "stderr",
     "output_type": "stream",
     "text": [
      "100%|██████████████████████████████████████████████████████████████████████████| 25962/25962 [00:13<00:00, 1950.21it/s]\n"
     ]
    },
    {
     "name": "stdout",
     "output_type": "stream",
     "text": [
      "DROP TABLE `ALTNAME_CODES`\n",
      "drop ALTNAME_CODES successed\n",
      "create ALTNAME_CODES successed\n"
     ]
    },
    {
     "name": "stderr",
     "output_type": "stream",
     "text": [
      "100%|████████████████████████████████████████████████████████████████████████████████| 21/21 [00:00<00:00, 4207.93it/s]\n"
     ]
    },
    {
     "name": "stdout",
     "output_type": "stream",
     "text": [
      "DROP TABLE `ALTNAME_DATA`\n",
      "drop ALTNAME_DATA successed\n",
      "create ALTNAME_DATA successed\n"
     ]
    },
    {
     "name": "stderr",
     "output_type": "stream",
     "text": [
      "100%|████████████████████████████████████████████████████████████████████████| 149284/149284 [00:54<00:00, 2734.36it/s]\n"
     ]
    },
    {
     "name": "stdout",
     "output_type": "stream",
     "text": [
      "DROP TABLE `APPOINTMENT_TYPE_CODES`\n",
      "drop APPOINTMENT_TYPE_CODES successed\n",
      "create APPOINTMENT_TYPE_CODES successed\n"
     ]
    },
    {
     "name": "stderr",
     "output_type": "stream",
     "text": [
      "100%|████████████████████████████████████████████████████████████████████████████████| 91/91 [00:00<00:00, 4332.81it/s]\n"
     ]
    },
    {
     "name": "stdout",
     "output_type": "stream",
     "text": [
      "DROP TABLE `ASSOC_CODE_TYPE_REL`\n",
      "drop ASSOC_CODE_TYPE_REL successed\n",
      "create ASSOC_CODE_TYPE_REL successed\n"
     ]
    },
    {
     "name": "stderr",
     "output_type": "stream",
     "text": [
      "100%|██████████████████████████████████████████████████████████████████████████████| 461/461 [00:00<00:00, 5871.31it/s]\n"
     ]
    },
    {
     "name": "stdout",
     "output_type": "stream",
     "text": [
      "DROP TABLE `ASSOC_CODES`\n",
      "drop ASSOC_CODES successed\n",
      "create ASSOC_CODES successed\n"
     ]
    },
    {
     "name": "stderr",
     "output_type": "stream",
     "text": [
      "100%|██████████████████████████████████████████████████████████████████████████████| 470/470 [00:00<00:00, 3598.98it/s]\n"
     ]
    },
    {
     "name": "stdout",
     "output_type": "stream",
     "text": [
      "DROP TABLE `ASSOC_DATA`\n",
      "drop ASSOC_DATA successed\n",
      "create ASSOC_DATA successed\n"
     ]
    },
    {
     "name": "stderr",
     "output_type": "stream",
     "text": [
      "100%|████████████████████████████████████████████████████████████████████████| 132053/132053 [02:02<00:00, 1077.62it/s]\n"
     ]
    },
    {
     "name": "stdout",
     "output_type": "stream",
     "text": [
      "DROP TABLE `ASSOC_TYPES`\n",
      "drop ASSOC_TYPES successed\n",
      "create ASSOC_TYPES successed\n"
     ]
    },
    {
     "name": "stderr",
     "output_type": "stream",
     "text": [
      "100%|████████████████████████████████████████████████████████████████████████████████| 45/45 [00:00<00:00, 3459.12it/s]\n"
     ]
    },
    {
     "name": "stdout",
     "output_type": "stream",
     "text": [
      "DROP TABLE `ASSUME_OFFICE_CODES`\n",
      "drop ASSUME_OFFICE_CODES successed\n",
      "create ASSUME_OFFICE_CODES successed\n"
     ]
    },
    {
     "name": "stderr",
     "output_type": "stream",
     "text": [
      "100%|██████████████████████████████████████████████████████████████████████████████████| 5/5 [00:00<00:00, 2498.10it/s]\n"
     ]
    },
    {
     "name": "stdout",
     "output_type": "stream",
     "text": [
      "DROP TABLE `BIOG_ADDR_CODES`\n",
      "drop BIOG_ADDR_CODES successed\n",
      "create BIOG_ADDR_CODES successed\n"
     ]
    },
    {
     "name": "stderr",
     "output_type": "stream",
     "text": [
      "100%|████████████████████████████████████████████████████████████████████████████████| 22/22 [00:00<00:00, 3140.73it/s]\n"
     ]
    },
    {
     "name": "stdout",
     "output_type": "stream",
     "text": [
      "DROP TABLE `BIOG_ADDR_DATA`\n",
      "drop BIOG_ADDR_DATA successed\n",
      "create BIOG_ADDR_DATA successed\n"
     ]
    },
    {
     "name": "stderr",
     "output_type": "stream",
     "text": [
      "100%|████████████████████████████████████████████████████████████████████████| 289282/289282 [03:49<00:00, 1261.16it/s]\n"
     ]
    },
    {
     "name": "stdout",
     "output_type": "stream",
     "text": [
      "DROP TABLE `BIOG_INST_CODES`\n",
      "drop BIOG_INST_CODES successed\n",
      "create BIOG_INST_CODES successed\n"
     ]
    },
    {
     "name": "stderr",
     "output_type": "stream",
     "text": [
      "100%|████████████████████████████████████████████████████████████████████████████████| 25/25 [00:00<00:00, 4163.49it/s]\n"
     ]
    },
    {
     "name": "stdout",
     "output_type": "stream",
     "text": [
      "DROP TABLE `BIOG_INST_DATA`\n",
      "drop BIOG_INST_DATA successed\n",
      "create BIOG_INST_DATA successed\n"
     ]
    },
    {
     "name": "stderr",
     "output_type": "stream",
     "text": [
      "100%|██████████████████████████████████████████████████████████████████████████████| 237/237 [00:00<00:00, 1925.47it/s]\n"
     ]
    },
    {
     "name": "stdout",
     "output_type": "stream",
     "text": [
      "DROP TABLE `BIOG_MAIN`\n",
      "drop BIOG_MAIN successed\n",
      "create BIOG_MAIN successed\n"
     ]
    },
    {
     "name": "stderr",
     "output_type": "stream",
     "text": [
      "100%|█████████████████████████████████████████████████████████████████████████| 417417/417417 [12:16<00:00, 566.77it/s]\n"
     ]
    },
    {
     "name": "stdout",
     "output_type": "stream",
     "text": [
      "DROP TABLE `BIOG_SOURCE_DATA`\n",
      "drop BIOG_SOURCE_DATA successed\n",
      "create BIOG_SOURCE_DATA successed\n"
     ]
    },
    {
     "name": "stderr",
     "output_type": "stream",
     "text": [
      "100%|████████████████████████████████████████████████████████████████████████| 427032/427032 [01:48<00:00, 3928.76it/s]\n"
     ]
    },
    {
     "name": "stdout",
     "output_type": "stream",
     "text": [
      "DROP TABLE `CHORONYM_CODES`\n",
      "drop CHORONYM_CODES successed\n",
      "create CHORONYM_CODES successed\n"
     ]
    },
    {
     "name": "stderr",
     "output_type": "stream",
     "text": [
      "100%|██████████████████████████████████████████████████████████████████████████████| 170/170 [00:00<00:00, 5306.05it/s]\n"
     ]
    },
    {
     "name": "stdout",
     "output_type": "stream",
     "text": [
      "DROP TABLE `COPYMISSINGTABLES`\n",
      "drop COPYMISSINGTABLES successed\n",
      "create COPYMISSINGTABLES successed\n"
     ]
    },
    {
     "name": "stderr",
     "output_type": "stream",
     "text": [
      "100%|████████████████████████████████████████████████████████████████████████████████| 42/42 [00:00<00:00, 6004.73it/s]\n"
     ]
    },
    {
     "name": "stdout",
     "output_type": "stream",
     "text": [
      "DROP TABLE `COPYTABLES`\n",
      "drop COPYTABLES successed\n",
      "create COPYTABLES successed\n"
     ]
    },
    {
     "name": "stderr",
     "output_type": "stream",
     "text": [
      "100%|████████████████████████████████████████████████████████████████████████████████| 18/18 [00:00<00:00, 5995.67it/s]\n"
     ]
    },
    {
     "name": "stdout",
     "output_type": "stream",
     "text": [
      "DROP TABLE `COPYTABLESDEFAULT`\n",
      "drop COPYTABLESDEFAULT successed\n",
      "create COPYTABLESDEFAULT successed\n"
     ]
    },
    {
     "name": "stderr",
     "output_type": "stream",
     "text": [
      "100%|████████████████████████████████████████████████████████████████████████████████| 67/67 [00:00<00:00, 5583.41it/s]\n"
     ]
    },
    {
     "name": "stdout",
     "output_type": "stream",
     "text": [
      "DROP TABLE `COUNTRY_CODES`\n",
      "drop COUNTRY_CODES successed\n",
      "create COUNTRY_CODES successed\n"
     ]
    },
    {
     "name": "stderr",
     "output_type": "stream",
     "text": [
      "100%|██████████████████████████████████████████████████████████████████████████████████| 8/8 [00:00<00:00, 4008.41it/s]\n"
     ]
    },
    {
     "name": "stdout",
     "output_type": "stream",
     "text": [
      "DROP TABLE `DATABASE_LINK_CODES`\n",
      "drop DATABASE_LINK_CODES successed\n",
      "create DATABASE_LINK_CODES successed\n"
     ]
    },
    {
     "name": "stderr",
     "output_type": "stream",
     "text": [
      "100%|██████████████████████████████████████████████████████████████████████████████████| 3/3 [00:00<00:00, 1499.04it/s]\n"
     ]
    },
    {
     "name": "stdout",
     "output_type": "stream",
     "text": [
      "DROP TABLE `DATABASE_LINK_DATA`\n",
      "drop DATABASE_LINK_DATA successed\n",
      "create DATABASE_LINK_DATA successed\n"
     ]
    },
    {
     "name": "stderr",
     "output_type": "stream",
     "text": [
      "100%|██████████████████████████████████████████████████████████████████████████| 19059/19059 [00:03<00:00, 5078.81it/s]\n"
     ]
    },
    {
     "name": "stdout",
     "output_type": "stream",
     "text": [
      "DROP TABLE `DYNASTIES`\n",
      "drop DYNASTIES successed\n",
      "create DYNASTIES successed\n"
     ]
    },
    {
     "name": "stderr",
     "output_type": "stream",
     "text": [
      "100%|████████████████████████████████████████████████████████████████████████████████| 80/80 [00:00<00:00, 3997.19it/s]\n"
     ]
    },
    {
     "name": "stdout",
     "output_type": "stream",
     "text": [
      "DROP TABLE `ENTRY_CODE_TYPE_REL`\n",
      "drop ENTRY_CODE_TYPE_REL successed\n",
      "create ENTRY_CODE_TYPE_REL successed\n"
     ]
    },
    {
     "name": "stderr",
     "output_type": "stream",
     "text": [
      "100%|██████████████████████████████████████████████████████████████████████████████| 223/223 [00:00<00:00, 6024.51it/s]\n"
     ]
    },
    {
     "name": "stdout",
     "output_type": "stream",
     "text": [
      "DROP TABLE `ENTRY_CODES`\n",
      "drop ENTRY_CODES successed\n",
      "create ENTRY_CODES successed\n"
     ]
    },
    {
     "name": "stderr",
     "output_type": "stream",
     "text": [
      "100%|██████████████████████████████████████████████████████████████████████████████| 259/259 [00:00<00:00, 5392.21it/s]\n"
     ]
    },
    {
     "name": "stdout",
     "output_type": "stream",
     "text": [
      "DROP TABLE `ENTRY_DATA`\n",
      "drop ENTRY_DATA successed\n",
      "create ENTRY_DATA successed\n"
     ]
    },
    {
     "name": "stderr",
     "output_type": "stream",
     "text": [
      "100%|██████████████████████████████████████████████████████████████████████████| 92213/92213 [01:08<00:00, 1343.46it/s]\n"
     ]
    },
    {
     "name": "stdout",
     "output_type": "stream",
     "text": [
      "DROP TABLE `ENTRY_TYPES`\n",
      "drop ENTRY_TYPES successed\n",
      "create ENTRY_TYPES successed\n"
     ]
    },
    {
     "name": "stderr",
     "output_type": "stream",
     "text": [
      "100%|████████████████████████████████████████████████████████████████████████████████| 26/26 [00:00<00:00, 3715.06it/s]\n"
     ]
    },
    {
     "name": "stdout",
     "output_type": "stream",
     "text": [
      "DROP TABLE `ETHNICITY_TRIBE_CODES`\n",
      "drop ETHNICITY_TRIBE_CODES successed\n",
      "create ETHNICITY_TRIBE_CODES successed\n"
     ]
    },
    {
     "name": "stderr",
     "output_type": "stream",
     "text": [
      "100%|██████████████████████████████████████████████████████████████████████████████| 497/497 [00:00<00:00, 1826.00it/s]\n"
     ]
    },
    {
     "name": "stdout",
     "output_type": "stream",
     "text": [
      "DROP TABLE `EVENT_CODES`\n",
      "drop EVENT_CODES successed\n",
      "create EVENT_CODES successed\n"
     ]
    },
    {
     "name": "stderr",
     "output_type": "stream",
     "text": [
      "100%|██████████████████████████████████████████████████████████████████████████████| 117/117 [00:00<00:00, 1900.29it/s]\n"
     ]
    },
    {
     "name": "stdout",
     "output_type": "stream",
     "text": [
      "DROP TABLE `EVENTS_ADDR`\n",
      "drop EVENTS_ADDR successed\n",
      "create EVENTS_ADDR successed\n"
     ]
    },
    {
     "name": "stderr",
     "output_type": "stream",
     "text": [
      "100%|██████████████████████████████████████████████████████████████████████████████████| 4/4 [00:00<00:00, 1999.67it/s]\n"
     ]
    },
    {
     "name": "stdout",
     "output_type": "stream",
     "text": [
      "DROP TABLE `EVENTS_DATA`\n",
      "drop EVENTS_DATA successed\n",
      "create EVENTS_DATA successed\n"
     ]
    },
    {
     "name": "stderr",
     "output_type": "stream",
     "text": [
      "100%|██████████████████████████████████████████████████████████████████████████████| 422/422 [00:00<00:00, 1677.35it/s]\n"
     ]
    },
    {
     "name": "stdout",
     "output_type": "stream",
     "text": [
      "DROP TABLE `EXTANT_CODES`\n",
      "drop EXTANT_CODES successed\n",
      "create EXTANT_CODES successed\n"
     ]
    },
    {
     "name": "stderr",
     "output_type": "stream",
     "text": [
      "100%|██████████████████████████████████████████████████████████████████████████████████| 4/4 [00:00<00:00, 1998.00it/s]\n"
     ]
    },
    {
     "name": "stdout",
     "output_type": "stream",
     "text": [
      "DROP TABLE `FIX_AUTHORS`\n",
      "drop FIX_AUTHORS successed\n",
      "create FIX_AUTHORS successed\n"
     ]
    },
    {
     "name": "stderr",
     "output_type": "stream",
     "text": [
      "100%|██████████████████████████████████████████████████████████████████████████████| 194/194 [00:00<00:00, 2769.56it/s]\n"
     ]
    },
    {
     "name": "stdout",
     "output_type": "stream",
     "text": [
      "DROP TABLE `FOREIGNKEYS`\n",
      "drop FOREIGNKEYS successed\n",
      "create FOREIGNKEYS successed\n"
     ]
    },
    {
     "name": "stderr",
     "output_type": "stream",
     "text": [
      "100%|██████████████████████████████████████████████████████████████████████████████| 182/182 [00:00<00:00, 2424.95it/s]\n"
     ]
    },
    {
     "name": "stdout",
     "output_type": "stream",
     "text": [
      "DROP TABLE `FORMLABELS`\n",
      "drop FORMLABELS successed\n",
      "create FORMLABELS successed\n"
     ]
    },
    {
     "name": "stderr",
     "output_type": "stream",
     "text": [
      "100%|██████████████████████████████████████████████████████████████████████████████| 330/330 [00:00<00:00, 4517.36it/s]\n"
     ]
    },
    {
     "name": "stdout",
     "output_type": "stream",
     "text": [
      "DROP TABLE `GANZHI_CODES`\n",
      "drop GANZHI_CODES successed\n",
      "create GANZHI_CODES successed\n"
     ]
    },
    {
     "name": "stderr",
     "output_type": "stream",
     "text": [
      "100%|████████████████████████████████████████████████████████████████████████████████| 61/61 [00:00<00:00, 5078.35it/s]\n"
     ]
    },
    {
     "name": "stdout",
     "output_type": "stream",
     "text": [
      "DROP TABLE `HOUSEHOLD_STATUS_CODES`\n",
      "drop HOUSEHOLD_STATUS_CODES successed\n",
      "create HOUSEHOLD_STATUS_CODES successed\n"
     ]
    },
    {
     "name": "stderr",
     "output_type": "stream",
     "text": [
      "100%|████████████████████████████████████████████████████████████████████████████████| 34/34 [00:00<00:00, 4846.43it/s]\n"
     ]
    },
    {
     "name": "stdout",
     "output_type": "stream",
     "text": [
      "DROP TABLE `KIN_DATA`\n",
      "drop KIN_DATA successed\n",
      "create KIN_DATA successed\n"
     ]
    },
    {
     "name": "stderr",
     "output_type": "stream",
     "text": [
      "100%|████████████████████████████████████████████████████████████████████████| 484204/484204 [02:59<00:00, 2694.47it/s]\n"
     ]
    },
    {
     "name": "stdout",
     "output_type": "stream",
     "text": [
      "DROP TABLE `KIN_MOURNING`\n",
      "drop KIN_MOURNING successed\n",
      "create KIN_MOURNING successed\n"
     ]
    },
    {
     "name": "stderr",
     "output_type": "stream",
     "text": [
      "100%|██████████████████████████████████████████████████████████████████████████████| 159/159 [00:00<00:00, 3209.86it/s]\n"
     ]
    },
    {
     "name": "stdout",
     "output_type": "stream",
     "text": [
      "DROP TABLE `KIN_MOURNING_STEPS`\n",
      "drop KIN_MOURNING_STEPS successed\n",
      "create KIN_MOURNING_STEPS successed\n"
     ]
    },
    {
     "name": "stderr",
     "output_type": "stream",
     "text": [
      "100%|██████████████████████████████████████████████████████████████████████████████| 160/160 [00:00<00:00, 4503.86it/s]\n"
     ]
    },
    {
     "name": "stdout",
     "output_type": "stream",
     "text": [
      "DROP TABLE `KINSHIP_CODES`\n",
      "drop KINSHIP_CODES successed\n",
      "create KINSHIP_CODES successed\n"
     ]
    },
    {
     "name": "stderr",
     "output_type": "stream",
     "text": [
      "100%|██████████████████████████████████████████████████████████████████████████████| 479/479 [00:00<00:00, 2874.83it/s]\n"
     ]
    },
    {
     "name": "stdout",
     "output_type": "stream",
     "text": [
      "DROP TABLE `LITERARYGENRE_CODES`\n",
      "drop LITERARYGENRE_CODES successed\n",
      "create LITERARYGENRE_CODES successed\n"
     ]
    },
    {
     "name": "stderr",
     "output_type": "stream",
     "text": [
      "100%|████████████████████████████████████████████████████████████████████████████████| 12/12 [00:00<00:00, 5957.82it/s]\n"
     ]
    },
    {
     "name": "stdout",
     "output_type": "stream",
     "text": [
      "DROP TABLE `MEASURE_CODES`\n",
      "drop MEASURE_CODES successed\n",
      "create MEASURE_CODES successed\n"
     ]
    },
    {
     "name": "stderr",
     "output_type": "stream",
     "text": [
      "100%|██████████████████████████████████████████████████████████████████████████████████| 7/7 [00:00<00:00, 2331.65it/s]\n"
     ]
    },
    {
     "name": "stdout",
     "output_type": "stream",
     "text": [
      "DROP TABLE `MIGRATIONS`\n",
      "drop MIGRATIONS successed\n",
      "create MIGRATIONS successed\n"
     ]
    },
    {
     "name": "stderr",
     "output_type": "stream",
     "text": [
      "100%|████████████████████████████████████████████████████████████████████████████████| 13/13 [00:00<00:00, 4331.24it/s]\n"
     ]
    },
    {
     "name": "stdout",
     "output_type": "stream",
     "text": [
      "DROP TABLE `NIAN_HAO`\n",
      "drop NIAN_HAO successed\n",
      "create NIAN_HAO successed\n"
     ]
    },
    {
     "name": "stderr",
     "output_type": "stream",
     "text": [
      "100%|██████████████████████████████████████████████████████████████████████████████| 682/682 [00:00<00:00, 3894.40it/s]\n"
     ]
    },
    {
     "name": "stdout",
     "output_type": "stream",
     "text": [
      "DROP TABLE `OAUTH_ACCESS_TOKENS`\n",
      "drop OAUTH_ACCESS_TOKENS successed\n",
      "create OAUTH_ACCESS_TOKENS successed\n"
     ]
    },
    {
     "name": "stderr",
     "output_type": "stream",
     "text": [
      "100%|████████████████████████████████████████████████████████████████████████████████| 16/16 [00:00<00:00, 2660.73it/s]\n"
     ]
    },
    {
     "name": "stdout",
     "output_type": "stream",
     "text": [
      "DROP TABLE `OAUTH_AUTH_CODES`\n",
      "drop OAUTH_AUTH_CODES successed\n",
      "create OAUTH_AUTH_CODES successed\n"
     ]
    },
    {
     "name": "stderr",
     "output_type": "stream",
     "text": [
      "100%|████████████████████████████████████████████████████████████████████████████████| 11/11 [00:00<00:00, 3649.24it/s]\n"
     ]
    },
    {
     "name": "stdout",
     "output_type": "stream",
     "text": [
      "DROP TABLE `OAUTH_CLIENTS`\n",
      "drop OAUTH_CLIENTS successed\n",
      "create OAUTH_CLIENTS successed\n"
     ]
    },
    {
     "name": "stderr",
     "output_type": "stream",
     "text": [
      "100%|██████████████████████████████████████████████████████████████████████████████████| 6/6 [00:00<00:00, 1997.92it/s]\n"
     ]
    },
    {
     "name": "stdout",
     "output_type": "stream",
     "text": [
      "DROP TABLE `OAUTH_PERSONAL_ACCESS_CLIENTS`\n",
      "drop OAUTH_PERSONAL_ACCESS_CLIENTS successed\n",
      "create OAUTH_PERSONAL_ACCESS_CLIENTS successed\n"
     ]
    },
    {
     "name": "stderr",
     "output_type": "stream",
     "text": [
      "100%|██████████████████████████████████████████████████████████████████████████████████| 2/2 [00:00<00:00, 1998.72it/s]\n"
     ]
    },
    {
     "name": "stdout",
     "output_type": "stream",
     "text": [
      "DROP TABLE `OAUTH_REFRESH_TOKENS`\n",
      "drop OAUTH_REFRESH_TOKENS successed\n",
      "create OAUTH_REFRESH_TOKENS successed\n"
     ]
    },
    {
     "name": "stderr",
     "output_type": "stream",
     "text": [
      "100%|██████████████████████████████████████████████████████████████████████████████████| 8/8 [00:00<00:00, 3996.00it/s]\n"
     ]
    },
    {
     "name": "stdout",
     "output_type": "stream",
     "text": [
      "DROP TABLE `OCCASION_CODES`\n",
      "drop OCCASION_CODES successed\n",
      "create OCCASION_CODES successed\n"
     ]
    },
    {
     "name": "stderr",
     "output_type": "stream",
     "text": [
      "100%|████████████████████████████████████████████████████████████████████████████████| 10/10 [00:00<00:00, 3323.27it/s]\n"
     ]
    },
    {
     "name": "stdout",
     "output_type": "stream",
     "text": [
      "DROP TABLE `OFFICE_CATEGORIES`\n",
      "drop OFFICE_CATEGORIES successed\n",
      "create OFFICE_CATEGORIES successed\n"
     ]
    },
    {
     "name": "stderr",
     "output_type": "stream",
     "text": [
      "100%|████████████████████████████████████████████████████████████████████████████████| 15/15 [00:00<00:00, 3748.71it/s]\n"
     ]
    },
    {
     "name": "stdout",
     "output_type": "stream",
     "text": [
      "DROP TABLE `OFFICE_CODE_TYPE_REL`\n",
      "drop OFFICE_CODE_TYPE_REL successed\n",
      "create OFFICE_CODE_TYPE_REL successed\n"
     ]
    },
    {
     "name": "stderr",
     "output_type": "stream",
     "text": [
      "100%|██████████████████████████████████████████████████████████████████████████| 35001/35001 [00:10<00:00, 3342.22it/s]\n"
     ]
    },
    {
     "name": "stdout",
     "output_type": "stream",
     "text": [
      "DROP TABLE `OFFICE_CODES`\n",
      "drop OFFICE_CODES successed\n",
      "create OFFICE_CODES successed\n"
     ]
    },
    {
     "name": "stderr",
     "output_type": "stream",
     "text": [
      "100%|██████████████████████████████████████████████████████████████████████████| 30519/30519 [00:14<00:00, 2141.07it/s]\n"
     ]
    },
    {
     "name": "stdout",
     "output_type": "stream",
     "text": [
      "DROP TABLE `OFFICE_CODES_CONVERSION`\n",
      "drop OFFICE_CODES_CONVERSION successed\n",
      "create OFFICE_CODES_CONVERSION successed\n"
     ]
    },
    {
     "name": "stderr",
     "output_type": "stream",
     "text": [
      "100%|██████████████████████████████████████████████████████████████████████████████| 718/718 [00:00<00:00, 4915.64it/s]\n"
     ]
    },
    {
     "name": "stdout",
     "output_type": "stream",
     "text": [
      "DROP TABLE `OFFICE_TYPE_TREE`\n",
      "drop OFFICE_TYPE_TREE successed\n",
      "create OFFICE_TYPE_TREE successed\n"
     ]
    },
    {
     "name": "stderr",
     "output_type": "stream",
     "text": [
      "100%|████████████████████████████████████████████████████████████████████████████| 2012/2012 [00:00<00:00, 4470.57it/s]\n"
     ]
    },
    {
     "name": "stdout",
     "output_type": "stream",
     "text": [
      "DROP TABLE `OFFICE_TYPE_TREE_BACKUP`\n",
      "drop OFFICE_TYPE_TREE_BACKUP successed\n",
      "create OFFICE_TYPE_TREE_BACKUP successed\n"
     ]
    },
    {
     "name": "stderr",
     "output_type": "stream",
     "text": [
      "100%|████████████████████████████████████████████████████████████████████████████| 2012/2012 [00:00<00:00, 4507.91it/s]\n"
     ]
    },
    {
     "name": "stdout",
     "output_type": "stream",
     "text": [
      "DROP TABLE `PARENTAL_STATUS_CODES`\n",
      "drop PARENTAL_STATUS_CODES successed\n",
      "create PARENTAL_STATUS_CODES successed\n"
     ]
    },
    {
     "name": "stderr",
     "output_type": "stream",
     "text": [
      "100%|██████████████████████████████████████████████████████████████████████████████████| 7/7 [00:00<00:00, 3498.17it/s]\n"
     ]
    },
    {
     "name": "stdout",
     "output_type": "stream",
     "text": [
      "create PASSWORD_RESETS successed\n"
     ]
    },
    {
     "name": "stderr",
     "output_type": "stream",
     "text": [
      "100%|███████████████████████████████████████████████████████████████████████████████████| 1/1 [00:00<00:00, 998.41it/s]\n"
     ]
    },
    {
     "name": "stdout",
     "output_type": "stream",
     "text": [
      "DROP TABLE `PLACE_CODES`\n",
      "drop PLACE_CODES successed\n",
      "create PLACE_CODES successed\n"
     ]
    },
    {
     "name": "stderr",
     "output_type": "stream",
     "text": [
      "100%|████████████████████████████████████████████████████████████████████████████| 2502/2502 [00:00<00:00, 4209.14it/s]\n"
     ]
    },
    {
     "name": "stdout",
     "output_type": "stream",
     "text": [
      "DROP TABLE `POSSESSION_ACT_CODES`\n",
      "drop POSSESSION_ACT_CODES successed\n",
      "create POSSESSION_ACT_CODES successed\n"
     ]
    },
    {
     "name": "stderr",
     "output_type": "stream",
     "text": [
      "100%|██████████████████████████████████████████████████████████████████████████████████| 4/4 [00:00<00:00, 1996.34it/s]\n"
     ]
    },
    {
     "name": "stdout",
     "output_type": "stream",
     "text": [
      "DROP TABLE `POSSESSION_ADDR`\n",
      "drop POSSESSION_ADDR successed\n",
      "create POSSESSION_ADDR successed\n"
     ]
    },
    {
     "name": "stderr",
     "output_type": "stream",
     "text": [
      "100%|██████████████████████████████████████████████████████████████████████████████████| 1/1 [00:00<00:00, 1001.51it/s]\n"
     ]
    },
    {
     "name": "stdout",
     "output_type": "stream",
     "text": [
      "DROP TABLE `POSSESSION_DATA`\n",
      "drop POSSESSION_DATA successed\n",
      "create POSSESSION_DATA successed\n"
     ]
    },
    {
     "name": "stderr",
     "output_type": "stream",
     "text": [
      "100%|██████████████████████████████████████████████████████████████████████████████████| 5/5 [00:00<00:00, 1249.72it/s]\n"
     ]
    },
    {
     "name": "stdout",
     "output_type": "stream",
     "text": [
      "DROP TABLE `POSTED_TO_ADDR_DATA`\n",
      "drop POSTED_TO_ADDR_DATA successed\n",
      "create POSTED_TO_ADDR_DATA successed\n"
     ]
    },
    {
     "name": "stderr",
     "output_type": "stream",
     "text": [
      "100%|████████████████████████████████████████████████████████████████████████| 164283/164283 [00:39<00:00, 4162.98it/s]\n"
     ]
    },
    {
     "name": "stdout",
     "output_type": "stream",
     "text": [
      "DROP TABLE `POSTED_TO_OFFICE_DATA`\n",
      "drop POSTED_TO_OFFICE_DATA successed\n",
      "create POSTED_TO_OFFICE_DATA successed\n"
     ]
    },
    {
     "name": "stderr",
     "output_type": "stream",
     "text": [
      "100%|█████████████████████████████████████████████████████████████████████████| 218067/218067 [03:38<00:00, 999.86it/s]\n"
     ]
    },
    {
     "name": "stdout",
     "output_type": "stream",
     "text": [
      "DROP TABLE `POSTING_DATA`\n",
      "drop POSTING_DATA successed\n",
      "create POSTING_DATA successed\n"
     ]
    },
    {
     "name": "stderr",
     "output_type": "stream",
     "text": [
      "100%|████████████████████████████████████████████████████████████████████████| 218015/218015 [00:44<00:00, 4893.16it/s]\n"
     ]
    },
    {
     "name": "stdout",
     "output_type": "stream",
     "text": [
      "DROP TABLE `SCHOLARLYTOPIC_CODES`\n",
      "drop SCHOLARLYTOPIC_CODES successed\n",
      "create SCHOLARLYTOPIC_CODES successed\n"
     ]
    },
    {
     "name": "stderr",
     "output_type": "stream",
     "text": [
      "100%|████████████████████████████████████████████████████████████████████████████████| 32/32 [00:00<00:00, 3545.20it/s]\n"
     ]
    },
    {
     "name": "stdout",
     "output_type": "stream",
     "text": [
      "DROP TABLE `SOCIAL_INSTITUTION_ADDR`\n",
      "drop SOCIAL_INSTITUTION_ADDR successed\n",
      "create SOCIAL_INSTITUTION_ADDR successed\n"
     ]
    },
    {
     "name": "stderr",
     "output_type": "stream",
     "text": [
      "100%|████████████████████████████████████████████████████████████████████████████| 3745/3745 [00:01<00:00, 2817.00it/s]\n"
     ]
    },
    {
     "name": "stdout",
     "output_type": "stream",
     "text": [
      "DROP TABLE `SOCIAL_INSTITUTION_ADDR_TYPES`\n",
      "drop SOCIAL_INSTITUTION_ADDR_TYPES successed\n",
      "create SOCIAL_INSTITUTION_ADDR_TYPES successed\n"
     ]
    },
    {
     "name": "stderr",
     "output_type": "stream",
     "text": [
      "100%|██████████████████████████████████████████████████████████████████████████████████| 2/2 [00:00<00:00, 1997.29it/s]\n"
     ]
    },
    {
     "name": "stdout",
     "output_type": "stream",
     "text": [
      "DROP TABLE `SOCIAL_INSTITUTION_ALTNAME_CODES`\n",
      "drop SOCIAL_INSTITUTION_ALTNAME_CODES successed\n",
      "create SOCIAL_INSTITUTION_ALTNAME_CODES successed\n"
     ]
    },
    {
     "name": "stderr",
     "output_type": "stream",
     "text": [
      "100%|███████████████████████████████████████████████████████████████████████████████████| 1/1 [00:00<00:00, 997.93it/s]\n"
     ]
    },
    {
     "name": "stdout",
     "output_type": "stream",
     "text": [
      "DROP TABLE `SOCIAL_INSTITUTION_ALTNAME_DATA`\n",
      "drop SOCIAL_INSTITUTION_ALTNAME_DATA successed\n",
      "create SOCIAL_INSTITUTION_ALTNAME_DATA successed\n"
     ]
    },
    {
     "name": "stderr",
     "output_type": "stream",
     "text": [
      "0it [00:00, ?it/s]\n"
     ]
    },
    {
     "name": "stdout",
     "output_type": "stream",
     "text": [
      "DROP TABLE `SOCIAL_INSTITUTION_CODES`\n",
      "drop SOCIAL_INSTITUTION_CODES successed\n",
      "create SOCIAL_INSTITUTION_CODES successed\n"
     ]
    },
    {
     "name": "stderr",
     "output_type": "stream",
     "text": [
      "100%|████████████████████████████████████████████████████████████████████████████| 3886/3886 [00:02<00:00, 1942.59it/s]\n"
     ]
    },
    {
     "name": "stdout",
     "output_type": "stream",
     "text": [
      "DROP TABLE `SOCIAL_INSTITUTION_CODES_CONVERSION`\n",
      "drop SOCIAL_INSTITUTION_CODES_CONVERSION successed\n",
      "create SOCIAL_INSTITUTION_CODES_CONVERSION successed\n"
     ]
    },
    {
     "name": "stderr",
     "output_type": "stream",
     "text": [
      "100%|████████████████████████████████████████████████████████████████████████████| 2881/2881 [00:00<00:00, 4896.22it/s]\n"
     ]
    },
    {
     "name": "stdout",
     "output_type": "stream",
     "text": [
      "DROP TABLE `SOCIAL_INSTITUTION_NAME_CODES`\n",
      "drop SOCIAL_INSTITUTION_NAME_CODES successed\n",
      "create SOCIAL_INSTITUTION_NAME_CODES successed\n"
     ]
    },
    {
     "name": "stderr",
     "output_type": "stream",
     "text": [
      "100%|████████████████████████████████████████████████████████████████████████████| 2505/2505 [00:00<00:00, 5314.53it/s]\n"
     ]
    },
    {
     "name": "stdout",
     "output_type": "stream",
     "text": [
      "DROP TABLE `SOCIAL_INSTITUTION_TYPES`\n",
      "drop SOCIAL_INSTITUTION_TYPES successed\n",
      "create SOCIAL_INSTITUTION_TYPES successed\n"
     ]
    },
    {
     "name": "stderr",
     "output_type": "stream",
     "text": [
      "100%|██████████████████████████████████████████████████████████████████████████████████| 4/4 [00:00<00:00, 1999.19it/s]\n"
     ]
    },
    {
     "name": "stdout",
     "output_type": "stream",
     "text": [
      "DROP TABLE `STATUS_CODE_TYPE_REL`\n",
      "drop STATUS_CODE_TYPE_REL successed\n",
      "create STATUS_CODE_TYPE_REL successed\n"
     ]
    },
    {
     "name": "stderr",
     "output_type": "stream",
     "text": [
      "0it [00:00, ?it/s]\n"
     ]
    },
    {
     "name": "stdout",
     "output_type": "stream",
     "text": [
      "DROP TABLE `STATUS_CODES`\n",
      "drop STATUS_CODES successed\n",
      "create STATUS_CODES successed\n"
     ]
    },
    {
     "name": "stderr",
     "output_type": "stream",
     "text": [
      "100%|██████████████████████████████████████████████████████████████████████████████| 264/264 [00:00<00:00, 5174.16it/s]\n"
     ]
    },
    {
     "name": "stdout",
     "output_type": "stream",
     "text": [
      "DROP TABLE `STATUS_DATA`\n",
      "drop STATUS_DATA successed\n",
      "create STATUS_DATA successed\n"
     ]
    },
    {
     "name": "stderr",
     "output_type": "stream",
     "text": [
      "100%|██████████████████████████████████████████████████████████████████████████| 54581/54581 [00:29<00:00, 1859.36it/s]\n"
     ]
    },
    {
     "name": "stdout",
     "output_type": "stream",
     "text": [
      "DROP TABLE `STATUS_TYPES`\n",
      "drop STATUS_TYPES successed\n",
      "create STATUS_TYPES successed\n"
     ]
    },
    {
     "name": "stderr",
     "output_type": "stream",
     "text": [
      "100%|██████████████████████████████████████████████████████████████████████████████████| 9/9 [00:00<00:00, 2995.93it/s]\n"
     ]
    },
    {
     "name": "stdout",
     "output_type": "stream",
     "text": [
      "DROP TABLE `TABLESFIELDS`\n",
      "drop TABLESFIELDS successed\n",
      "create TABLESFIELDS successed\n"
     ]
    },
    {
     "name": "stderr",
     "output_type": "stream",
     "text": [
      "100%|██████████████████████████████████████████████████████████████████████████████| 667/667 [00:00<00:00, 3098.54it/s]\n"
     ]
    },
    {
     "name": "stdout",
     "output_type": "stream",
     "text": [
      "DROP TABLE `TABLESFIELDSCHANGES`\n",
      "drop TABLESFIELDSCHANGES successed\n",
      "create TABLESFIELDSCHANGES successed\n"
     ]
    },
    {
     "name": "stderr",
     "output_type": "stream",
     "text": [
      "100%|██████████████████████████████████████████████████████████████████████████████| 367/367 [00:00<00:00, 4584.29it/s]\n"
     ]
    },
    {
     "name": "stdout",
     "output_type": "stream",
     "text": [
      "DROP TABLE `TANG BUREAUCRATIC TREE`\n",
      "drop TANG BUREAUCRATIC TREE successed\n",
      "create TANG BUREAUCRATIC TREE successed\n"
     ]
    },
    {
     "name": "stderr",
     "output_type": "stream",
     "text": [
      "100%|██████████████████████████████████████████████████████████████████████████████| 389/389 [00:00<00:00, 4520.05it/s]\n"
     ]
    },
    {
     "name": "stdout",
     "output_type": "stream",
     "text": [
      "DROP TABLE `TEXT_BIBLCAT_CODE_TYPE_REL`\n",
      "drop TEXT_BIBLCAT_CODE_TYPE_REL successed\n",
      "create TEXT_BIBLCAT_CODE_TYPE_REL successed\n"
     ]
    },
    {
     "name": "stderr",
     "output_type": "stream",
     "text": [
      "100%|██████████████████████████████████████████████████████████████████████████████| 138/138 [00:00<00:00, 5608.28it/s]\n"
     ]
    },
    {
     "name": "stdout",
     "output_type": "stream",
     "text": [
      "DROP TABLE `TEXT_BIBLCAT_CODES`\n",
      "drop TEXT_BIBLCAT_CODES successed\n",
      "create TEXT_BIBLCAT_CODES successed\n"
     ]
    },
    {
     "name": "stderr",
     "output_type": "stream",
     "text": [
      "100%|██████████████████████████████████████████████████████████████████████████████| 144/144 [00:00<00:00, 4427.78it/s]\n"
     ]
    },
    {
     "name": "stdout",
     "output_type": "stream",
     "text": [
      "DROP TABLE `TEXT_BIBLCAT_TYPES`\n",
      "drop TEXT_BIBLCAT_TYPES successed\n",
      "create TEXT_BIBLCAT_TYPES successed\n"
     ]
    },
    {
     "name": "stderr",
     "output_type": "stream",
     "text": [
      "100%|████████████████████████████████████████████████████████████████████████████████| 51/51 [00:00<00:00, 3920.49it/s]\n"
     ]
    },
    {
     "name": "stdout",
     "output_type": "stream",
     "text": [
      "DROP TABLE `TEXT_BIBLCAT_TYPES_1`\n",
      "drop TEXT_BIBLCAT_TYPES_1 successed\n",
      "create TEXT_BIBLCAT_TYPES_1 successed\n"
     ]
    },
    {
     "name": "stderr",
     "output_type": "stream",
     "text": [
      "100%|██████████████████████████████████████████████████████████████████████████████| 194/194 [00:00<00:00, 4458.50it/s]\n"
     ]
    },
    {
     "name": "stdout",
     "output_type": "stream",
     "text": [
      "DROP TABLE `TEXT_CODES`\n",
      "drop TEXT_CODES successed\n",
      "create TEXT_CODES successed\n"
     ]
    },
    {
     "name": "stderr",
     "output_type": "stream",
     "text": [
      "100%|███████████████████████████████████████████████████████████████████████████| 29818/29818 [00:30<00:00, 975.51it/s]\n"
     ]
    },
    {
     "name": "stdout",
     "output_type": "stream",
     "text": [
      "DROP TABLE `TEXT_DATA`\n",
      "drop TEXT_DATA successed\n",
      "create TEXT_DATA successed\n"
     ]
    },
    {
     "name": "stderr",
     "output_type": "stream",
     "text": [
      "100%|██████████████████████████████████████████████████████████████████████████| 29696/29696 [00:12<00:00, 2363.04it/s]\n"
     ]
    },
    {
     "name": "stdout",
     "output_type": "stream",
     "text": [
      "DROP TABLE `TEXT_ROLE_CODES`\n",
      "drop TEXT_ROLE_CODES successed\n",
      "create TEXT_ROLE_CODES successed\n"
     ]
    },
    {
     "name": "stderr",
     "output_type": "stream",
     "text": [
      "100%|████████████████████████████████████████████████████████████████████████████████| 11/11 [00:00<00:00, 3648.66it/s]\n"
     ]
    },
    {
     "name": "stdout",
     "output_type": "stream",
     "text": [
      "DROP TABLE `TEXT_TYPE`\n",
      "drop TEXT_TYPE successed\n",
      "create TEXT_TYPE successed\n"
     ]
    },
    {
     "name": "stderr",
     "output_type": "stream",
     "text": [
      "100%|██████████████████████████████████████████████████████████████████████████████| 119/119 [00:00<00:00, 3963.87it/s]\n"
     ]
    },
    {
     "name": "stdout",
     "output_type": "stream",
     "text": [
      "create TMPBM_NIY successed\n"
     ]
    },
    {
     "name": "stderr",
     "output_type": "stream",
     "text": [
      "100%|████████████████████████████████████████████████████████████████████████| 103531/103531 [00:18<00:00, 5458.08it/s]\n"
     ]
    },
    {
     "name": "stdout",
     "output_type": "stream",
     "text": [
      "create TMPBM_NIY_FINISHED successed\n"
     ]
    },
    {
     "name": "stderr",
     "output_type": "stream",
     "text": [
      "100%|████████████████████████████████████████████████████████████████████████| 197801/197801 [00:37<00:00, 5300.51it/s]\n"
     ]
    },
    {
     "name": "stdout",
     "output_type": "stream",
     "text": [
      "create TMPINDEXYEAR successed\n"
     ]
    },
    {
     "name": "stderr",
     "output_type": "stream",
     "text": [
      "100%|████████████████████████████████████████████████████████████████████████████████| 11/11 [00:00<00:00, 5485.36it/s]\n"
     ]
    },
    {
     "name": "stdout",
     "output_type": "stream",
     "text": [
      "create USERS successed\n"
     ]
    },
    {
     "name": "stderr",
     "output_type": "stream",
     "text": [
      "100%|████████████████████████████████████████████████████████████████████████████████| 15/15 [00:00<00:00, 2997.36it/s]\n"
     ]
    },
    {
     "name": "stdout",
     "output_type": "stream",
     "text": [
      "DROP TABLE `YEAR_RANGE_CODES`\n",
      "drop YEAR_RANGE_CODES successed\n",
      "create YEAR_RANGE_CODES successed\n"
     ]
    },
    {
     "name": "stderr",
     "output_type": "stream",
     "text": [
      "100%|██████████████████████████████████████████████████████████████████████████████████| 6/6 [00:00<00:00, 5999.00it/s]\n"
     ]
    }
   ],
   "source": [
    "main()"
   ]
  },
  {
   "cell_type": "code",
   "execution_count": null,
   "metadata": {},
   "outputs": [],
   "source": []
  }
 ],
 "metadata": {
  "kernelspec": {
   "display_name": "Python 3",
   "language": "python",
   "name": "python3"
  },
  "language_info": {
   "codemirror_mode": {
    "name": "ipython",
    "version": 3
   },
   "file_extension": ".py",
   "mimetype": "text/x-python",
   "name": "python",
   "nbconvert_exporter": "python",
   "pygments_lexer": "ipython3",
   "version": "3.7.3"
  }
 },
 "nbformat": 4,
 "nbformat_minor": 2
}
